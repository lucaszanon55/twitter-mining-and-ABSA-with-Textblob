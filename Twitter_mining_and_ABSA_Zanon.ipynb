{
  "nbformat": 4,
  "nbformat_minor": 0,
  "metadata": {
    "colab": {
      "provenance": [],
      "include_colab_link": true
    },
    "kernelspec": {
      "display_name": "Python 3",
      "name": "python3"
    },
    "language_info": {
      "name": "python"
    },
    "widgets": {
      "application/vnd.jupyter.widget-state+json": {
        "8a89f22f30fd40e89b8aee4c4c8e5fe7": {
          "model_module": "@jupyter-widgets/controls",
          "model_name": "HBoxModel",
          "model_module_version": "1.5.0",
          "state": {
            "_view_name": "HBoxView",
            "_dom_classes": [],
            "_model_name": "HBoxModel",
            "_view_module": "@jupyter-widgets/controls",
            "_model_module_version": "1.5.0",
            "_view_count": null,
            "_view_module_version": "1.5.0",
            "box_style": "",
            "layout": "IPY_MODEL_d1016358330e4f79aa1e1cb711e05938",
            "_model_module": "@jupyter-widgets/controls",
            "children": [
              "IPY_MODEL_d0baf26dce444ea8a908700b3c79a8fc",
              "IPY_MODEL_0833039b21874cab866bc8599bbb2ecb",
              "IPY_MODEL_7bd468632cfb4f94a1c0dcd34123829a"
            ]
          }
        },
        "d1016358330e4f79aa1e1cb711e05938": {
          "model_module": "@jupyter-widgets/base",
          "model_name": "LayoutModel",
          "model_module_version": "1.2.0",
          "state": {
            "_view_name": "LayoutView",
            "grid_template_rows": null,
            "right": null,
            "justify_content": null,
            "_view_module": "@jupyter-widgets/base",
            "overflow": null,
            "_model_module_version": "1.2.0",
            "_view_count": null,
            "flex_flow": null,
            "width": null,
            "min_width": null,
            "border": null,
            "align_items": null,
            "bottom": null,
            "_model_module": "@jupyter-widgets/base",
            "top": null,
            "grid_column": null,
            "overflow_y": null,
            "overflow_x": null,
            "grid_auto_flow": null,
            "grid_area": null,
            "grid_template_columns": null,
            "flex": null,
            "_model_name": "LayoutModel",
            "justify_items": null,
            "grid_row": null,
            "max_height": null,
            "align_content": null,
            "visibility": null,
            "align_self": null,
            "height": null,
            "min_height": null,
            "padding": null,
            "grid_auto_rows": null,
            "grid_gap": null,
            "max_width": null,
            "order": null,
            "_view_module_version": "1.2.0",
            "grid_template_areas": null,
            "object_position": null,
            "object_fit": null,
            "grid_auto_columns": null,
            "margin": null,
            "display": null,
            "left": null
          }
        },
        "d0baf26dce444ea8a908700b3c79a8fc": {
          "model_module": "@jupyter-widgets/controls",
          "model_name": "HTMLModel",
          "model_module_version": "1.5.0",
          "state": {
            "_view_name": "HTMLView",
            "style": "IPY_MODEL_ca1c45ce13d243f4b569b03fdb28f982",
            "_dom_classes": [],
            "description": "",
            "_model_name": "HTMLModel",
            "placeholder": "​",
            "_view_module": "@jupyter-widgets/controls",
            "_model_module_version": "1.5.0",
            "value": "Downloading https://raw.githubusercontent.com/stanfordnlp/stanza-resources/main/resources_1.3.0.json: ",
            "_view_count": null,
            "_view_module_version": "1.5.0",
            "description_tooltip": null,
            "_model_module": "@jupyter-widgets/controls",
            "layout": "IPY_MODEL_2a7b540ebe58417798bb82ad82f3c22b"
          }
        },
        "0833039b21874cab866bc8599bbb2ecb": {
          "model_module": "@jupyter-widgets/controls",
          "model_name": "FloatProgressModel",
          "model_module_version": "1.5.0",
          "state": {
            "_view_name": "ProgressView",
            "style": "IPY_MODEL_783d8fd6e9994eb593bfaad12c6d092a",
            "_dom_classes": [],
            "description": "",
            "_model_name": "FloatProgressModel",
            "bar_style": "success",
            "max": 24459,
            "_view_module": "@jupyter-widgets/controls",
            "_model_module_version": "1.5.0",
            "value": 24459,
            "_view_count": null,
            "_view_module_version": "1.5.0",
            "orientation": "horizontal",
            "min": 0,
            "description_tooltip": null,
            "_model_module": "@jupyter-widgets/controls",
            "layout": "IPY_MODEL_331525a4deed4f3589ca807718279456"
          }
        },
        "7bd468632cfb4f94a1c0dcd34123829a": {
          "model_module": "@jupyter-widgets/controls",
          "model_name": "HTMLModel",
          "model_module_version": "1.5.0",
          "state": {
            "_view_name": "HTMLView",
            "style": "IPY_MODEL_43766eead6974fe78b315a05e435e42e",
            "_dom_classes": [],
            "description": "",
            "_model_name": "HTMLModel",
            "placeholder": "​",
            "_view_module": "@jupyter-widgets/controls",
            "_model_module_version": "1.5.0",
            "value": " 142k/? [00:00&lt;00:00, 2.55MB/s]",
            "_view_count": null,
            "_view_module_version": "1.5.0",
            "description_tooltip": null,
            "_model_module": "@jupyter-widgets/controls",
            "layout": "IPY_MODEL_c9b8cadd801641ab99b200997c9fc60c"
          }
        },
        "ca1c45ce13d243f4b569b03fdb28f982": {
          "model_module": "@jupyter-widgets/controls",
          "model_name": "DescriptionStyleModel",
          "model_module_version": "1.5.0",
          "state": {
            "_view_name": "StyleView",
            "_model_name": "DescriptionStyleModel",
            "description_width": "",
            "_view_module": "@jupyter-widgets/base",
            "_model_module_version": "1.5.0",
            "_view_count": null,
            "_view_module_version": "1.2.0",
            "_model_module": "@jupyter-widgets/controls"
          }
        },
        "2a7b540ebe58417798bb82ad82f3c22b": {
          "model_module": "@jupyter-widgets/base",
          "model_name": "LayoutModel",
          "model_module_version": "1.2.0",
          "state": {
            "_view_name": "LayoutView",
            "grid_template_rows": null,
            "right": null,
            "justify_content": null,
            "_view_module": "@jupyter-widgets/base",
            "overflow": null,
            "_model_module_version": "1.2.0",
            "_view_count": null,
            "flex_flow": null,
            "width": null,
            "min_width": null,
            "border": null,
            "align_items": null,
            "bottom": null,
            "_model_module": "@jupyter-widgets/base",
            "top": null,
            "grid_column": null,
            "overflow_y": null,
            "overflow_x": null,
            "grid_auto_flow": null,
            "grid_area": null,
            "grid_template_columns": null,
            "flex": null,
            "_model_name": "LayoutModel",
            "justify_items": null,
            "grid_row": null,
            "max_height": null,
            "align_content": null,
            "visibility": null,
            "align_self": null,
            "height": null,
            "min_height": null,
            "padding": null,
            "grid_auto_rows": null,
            "grid_gap": null,
            "max_width": null,
            "order": null,
            "_view_module_version": "1.2.0",
            "grid_template_areas": null,
            "object_position": null,
            "object_fit": null,
            "grid_auto_columns": null,
            "margin": null,
            "display": null,
            "left": null
          }
        },
        "783d8fd6e9994eb593bfaad12c6d092a": {
          "model_module": "@jupyter-widgets/controls",
          "model_name": "ProgressStyleModel",
          "model_module_version": "1.5.0",
          "state": {
            "_view_name": "StyleView",
            "_model_name": "ProgressStyleModel",
            "description_width": "",
            "_view_module": "@jupyter-widgets/base",
            "_model_module_version": "1.5.0",
            "_view_count": null,
            "_view_module_version": "1.2.0",
            "bar_color": null,
            "_model_module": "@jupyter-widgets/controls"
          }
        },
        "331525a4deed4f3589ca807718279456": {
          "model_module": "@jupyter-widgets/base",
          "model_name": "LayoutModel",
          "model_module_version": "1.2.0",
          "state": {
            "_view_name": "LayoutView",
            "grid_template_rows": null,
            "right": null,
            "justify_content": null,
            "_view_module": "@jupyter-widgets/base",
            "overflow": null,
            "_model_module_version": "1.2.0",
            "_view_count": null,
            "flex_flow": null,
            "width": null,
            "min_width": null,
            "border": null,
            "align_items": null,
            "bottom": null,
            "_model_module": "@jupyter-widgets/base",
            "top": null,
            "grid_column": null,
            "overflow_y": null,
            "overflow_x": null,
            "grid_auto_flow": null,
            "grid_area": null,
            "grid_template_columns": null,
            "flex": null,
            "_model_name": "LayoutModel",
            "justify_items": null,
            "grid_row": null,
            "max_height": null,
            "align_content": null,
            "visibility": null,
            "align_self": null,
            "height": null,
            "min_height": null,
            "padding": null,
            "grid_auto_rows": null,
            "grid_gap": null,
            "max_width": null,
            "order": null,
            "_view_module_version": "1.2.0",
            "grid_template_areas": null,
            "object_position": null,
            "object_fit": null,
            "grid_auto_columns": null,
            "margin": null,
            "display": null,
            "left": null
          }
        },
        "43766eead6974fe78b315a05e435e42e": {
          "model_module": "@jupyter-widgets/controls",
          "model_name": "DescriptionStyleModel",
          "model_module_version": "1.5.0",
          "state": {
            "_view_name": "StyleView",
            "_model_name": "DescriptionStyleModel",
            "description_width": "",
            "_view_module": "@jupyter-widgets/base",
            "_model_module_version": "1.5.0",
            "_view_count": null,
            "_view_module_version": "1.2.0",
            "_model_module": "@jupyter-widgets/controls"
          }
        },
        "c9b8cadd801641ab99b200997c9fc60c": {
          "model_module": "@jupyter-widgets/base",
          "model_name": "LayoutModel",
          "model_module_version": "1.2.0",
          "state": {
            "_view_name": "LayoutView",
            "grid_template_rows": null,
            "right": null,
            "justify_content": null,
            "_view_module": "@jupyter-widgets/base",
            "overflow": null,
            "_model_module_version": "1.2.0",
            "_view_count": null,
            "flex_flow": null,
            "width": null,
            "min_width": null,
            "border": null,
            "align_items": null,
            "bottom": null,
            "_model_module": "@jupyter-widgets/base",
            "top": null,
            "grid_column": null,
            "overflow_y": null,
            "overflow_x": null,
            "grid_auto_flow": null,
            "grid_area": null,
            "grid_template_columns": null,
            "flex": null,
            "_model_name": "LayoutModel",
            "justify_items": null,
            "grid_row": null,
            "max_height": null,
            "align_content": null,
            "visibility": null,
            "align_self": null,
            "height": null,
            "min_height": null,
            "padding": null,
            "grid_auto_rows": null,
            "grid_gap": null,
            "max_width": null,
            "order": null,
            "_view_module_version": "1.2.0",
            "grid_template_areas": null,
            "object_position": null,
            "object_fit": null,
            "grid_auto_columns": null,
            "margin": null,
            "display": null,
            "left": null
          }
        }
      }
    }
  },
  "cells": [
    {
      "cell_type": "markdown",
      "metadata": {
        "id": "view-in-github",
        "colab_type": "text"
      },
      "source": [
        "<a href=\"https://colab.research.google.com/github/lucaszanon55/twitter-mining-and-ABSA-with-Textblob/blob/main/Twitter_mining_and_ABSA_Zanon.ipynb\" target=\"_parent\"><img src=\"https://colab.research.google.com/assets/colab-badge.svg\" alt=\"Open In Colab\"/></a>"
      ]
    },
    {
      "cell_type": "markdown",
      "metadata": {
        "id": "KR-Kgu9nVynn"
      },
      "source": [
        "#Mineração Tweepy"
      ]
    },
    {
      "cell_type": "code",
      "metadata": {
        "colab": {
          "base_uri": "https://localhost:8080/"
        },
        "id": "bljddq11KbVX",
        "outputId": "8b286829-368e-4a60-f335-0bdc2545f298"
      },
      "source": [
        "!pip install tweepy\n",
        "import tweepy\n",
        "import pandas as pd"
      ],
      "execution_count": null,
      "outputs": [
        {
          "output_type": "stream",
          "name": "stdout",
          "text": [
            "Requirement already satisfied: tweepy in /usr/local/lib/python3.7/dist-packages (3.10.0)\n",
            "Requirement already satisfied: six>=1.10.0 in /usr/local/lib/python3.7/dist-packages (from tweepy) (1.15.0)\n",
            "Requirement already satisfied: requests-oauthlib>=0.7.0 in /usr/local/lib/python3.7/dist-packages (from tweepy) (1.3.0)\n",
            "Requirement already satisfied: requests[socks]>=2.11.1 in /usr/local/lib/python3.7/dist-packages (from tweepy) (2.23.0)\n",
            "Requirement already satisfied: oauthlib>=3.0.0 in /usr/local/lib/python3.7/dist-packages (from requests-oauthlib>=0.7.0->tweepy) (3.1.1)\n",
            "Requirement already satisfied: idna<3,>=2.5 in /usr/local/lib/python3.7/dist-packages (from requests[socks]>=2.11.1->tweepy) (2.10)\n",
            "Requirement already satisfied: urllib3!=1.25.0,!=1.25.1,<1.26,>=1.21.1 in /usr/local/lib/python3.7/dist-packages (from requests[socks]>=2.11.1->tweepy) (1.24.3)\n",
            "Requirement already satisfied: certifi>=2017.4.17 in /usr/local/lib/python3.7/dist-packages (from requests[socks]>=2.11.1->tweepy) (2021.10.8)\n",
            "Requirement already satisfied: chardet<4,>=3.0.2 in /usr/local/lib/python3.7/dist-packages (from requests[socks]>=2.11.1->tweepy) (3.0.4)\n",
            "Requirement already satisfied: PySocks!=1.5.7,>=1.5.6 in /usr/local/lib/python3.7/dist-packages (from requests[socks]>=2.11.1->tweepy) (1.7.1)\n"
          ]
        }
      ]
    },
    {
      "cell_type": "code",
      "metadata": {
        "id": "EVADDc-AKpXR"
      },
      "source": [
        "#twitter credentials\n",
        "consumer_key = \"wrpTHJB9Epa2B8FbL2gU1inN9\"\n",
        "consumer_secret = \"6JWuQLDlnw4vjTWM7F7k5NFkE4b20ljXcbjwvtQcbVtbHTKRIp\"\n",
        "access_token = \"1374767342396268544-awGuXVQJJxB7xC7Hx8g0ntpyd4cWlx\"\n",
        "access_token_secret = \"p8dxq5kOLkvW9jXnvKxqI4rMFZjJENb2LyE5tT8ZKNDq4\""
      ],
      "execution_count": null,
      "outputs": []
    },
    {
      "cell_type": "code",
      "metadata": {
        "id": "_vwPydATLEQS"
      },
      "source": [
        "# Creating the authentication object\n",
        "auth = tweepy.OAuthHandler(consumer_key, consumer_secret)\n",
        "# Setting your access token and secret\n",
        "auth.set_access_token(access_token, access_token_secret)\n",
        "# Creating the API object while passing in auth information\n",
        "api = tweepy.API(auth, wait_on_rate_limit_notify=True)"
      ],
      "execution_count": null,
      "outputs": []
    },
    {
      "cell_type": "code",
      "metadata": {
        "colab": {
          "base_uri": "https://localhost:8080/"
        },
        "id": "CyKAww0FCW9c",
        "outputId": "5eb80841-22cf-4e28-fd6e-f5d7b7ff542c"
      },
      "source": [
        "#Criando Lista com as chaves desejadas\n",
        "twkeys = ['created_at', 'id', 'text']\n",
        "twkeys"
      ],
      "execution_count": null,
      "outputs": [
        {
          "output_type": "execute_result",
          "data": {
            "text/plain": [
              "['created_at', 'id', 'text']"
            ]
          },
          "metadata": {},
          "execution_count": 4
        }
      ]
    },
    {
      "cell_type": "code",
      "metadata": {
        "id": "hIUCYjnBAuri"
      },
      "source": [
        "# Criando dicionário com as chaves desejadas\n",
        "tweets_dict = {}\n",
        "tweets_dict = tweets_dict.fromkeys(twkeys)"
      ],
      "execution_count": null,
      "outputs": []
    },
    {
      "cell_type": "code",
      "metadata": {
        "id": "gB6W_QFwLWui"
      },
      "source": [
        "# Parametros de busca\n",
        "query = \"galaxy s21 AND screen\" + \" -filter:retweets\"\n",
        "language = \"en\"\n",
        "# data_since = '2021-10-01'\n",
        "# data_until = '2021-10-12'\n",
        "qtdd = 5000\n",
        "# Calling the user_timeline function with our parameters\n",
        "results = tweepy.Cursor(api.search, q=query, lang=language).items(qtdd)\n",
        "\n"
      ],
      "execution_count": null,
      "outputs": []
    },
    {
      "cell_type": "code",
      "metadata": {
        "id": "8nJ2_y0m_5Bh",
        "colab": {
          "base_uri": "https://localhost:8080/",
          "height": 374
        },
        "outputId": "c4afffff-69ed-4321-d64d-58c975e16b9f"
      },
      "source": [
        "# for tweet in results:\n",
        "#   for key in tweets_dict.keys():\n",
        "#     try:\n",
        "#       twkey = tweet._json[key]\n",
        "#       tweets_dict[key].append(twkey)\n",
        "#     except KeyError:\n",
        "#       twkey = \"\"\n",
        "#       tweets_dict[key].append(\"\")\n",
        "#     except:\n",
        "#       tweets_dict[key] = [twkey]"
      ],
      "execution_count": null,
      "outputs": [
        {
          "output_type": "error",
          "ename": "TweepError",
          "evalue": "ignored",
          "traceback": [
            "\u001b[0;31m---------------------------------------------------------------------------\u001b[0m",
            "\u001b[0;31mTweepError\u001b[0m                                Traceback (most recent call last)",
            "\u001b[0;32m<ipython-input-8-828f1be3c3ec>\u001b[0m in \u001b[0;36m<module>\u001b[0;34m()\u001b[0m\n\u001b[0;32m----> 1\u001b[0;31m \u001b[0;32mfor\u001b[0m \u001b[0mtweet\u001b[0m \u001b[0;32min\u001b[0m \u001b[0mresults\u001b[0m\u001b[0;34m:\u001b[0m\u001b[0;34m\u001b[0m\u001b[0;34m\u001b[0m\u001b[0m\n\u001b[0m\u001b[1;32m      2\u001b[0m   \u001b[0;32mfor\u001b[0m \u001b[0mkey\u001b[0m \u001b[0;32min\u001b[0m \u001b[0mtweets_dict\u001b[0m\u001b[0;34m.\u001b[0m\u001b[0mkeys\u001b[0m\u001b[0;34m(\u001b[0m\u001b[0;34m)\u001b[0m\u001b[0;34m:\u001b[0m\u001b[0;34m\u001b[0m\u001b[0;34m\u001b[0m\u001b[0m\n\u001b[1;32m      3\u001b[0m     \u001b[0;32mtry\u001b[0m\u001b[0;34m:\u001b[0m\u001b[0;34m\u001b[0m\u001b[0;34m\u001b[0m\u001b[0m\n\u001b[1;32m      4\u001b[0m       \u001b[0mtwkey\u001b[0m \u001b[0;34m=\u001b[0m \u001b[0mtweet\u001b[0m\u001b[0;34m.\u001b[0m\u001b[0m_json\u001b[0m\u001b[0;34m[\u001b[0m\u001b[0mkey\u001b[0m\u001b[0;34m]\u001b[0m\u001b[0;34m\u001b[0m\u001b[0;34m\u001b[0m\u001b[0m\n\u001b[1;32m      5\u001b[0m       \u001b[0mtweets_dict\u001b[0m\u001b[0;34m[\u001b[0m\u001b[0mkey\u001b[0m\u001b[0;34m]\u001b[0m\u001b[0;34m.\u001b[0m\u001b[0mappend\u001b[0m\u001b[0;34m(\u001b[0m\u001b[0mtwkey\u001b[0m\u001b[0;34m)\u001b[0m\u001b[0;34m\u001b[0m\u001b[0;34m\u001b[0m\u001b[0m\n",
            "\u001b[0;32m/usr/local/lib/python3.7/dist-packages/tweepy/cursor.py\u001b[0m in \u001b[0;36m__next__\u001b[0;34m(self)\u001b[0m\n\u001b[1;32m     49\u001b[0m \u001b[0;34m\u001b[0m\u001b[0m\n\u001b[1;32m     50\u001b[0m     \u001b[0;32mdef\u001b[0m \u001b[0m__next__\u001b[0m\u001b[0;34m(\u001b[0m\u001b[0mself\u001b[0m\u001b[0;34m)\u001b[0m\u001b[0;34m:\u001b[0m\u001b[0;34m\u001b[0m\u001b[0;34m\u001b[0m\u001b[0m\n\u001b[0;32m---> 51\u001b[0;31m         \u001b[0;32mreturn\u001b[0m \u001b[0mself\u001b[0m\u001b[0;34m.\u001b[0m\u001b[0mnext\u001b[0m\u001b[0;34m(\u001b[0m\u001b[0;34m)\u001b[0m\u001b[0;34m\u001b[0m\u001b[0;34m\u001b[0m\u001b[0m\n\u001b[0m\u001b[1;32m     52\u001b[0m \u001b[0;34m\u001b[0m\u001b[0m\n\u001b[1;32m     53\u001b[0m     \u001b[0;32mdef\u001b[0m \u001b[0mnext\u001b[0m\u001b[0;34m(\u001b[0m\u001b[0mself\u001b[0m\u001b[0;34m)\u001b[0m\u001b[0;34m:\u001b[0m\u001b[0;34m\u001b[0m\u001b[0;34m\u001b[0m\u001b[0m\n",
            "\u001b[0;32m/usr/local/lib/python3.7/dist-packages/tweepy/cursor.py\u001b[0m in \u001b[0;36mnext\u001b[0;34m(self)\u001b[0m\n\u001b[1;32m    241\u001b[0m         \u001b[0;32mif\u001b[0m \u001b[0mself\u001b[0m\u001b[0;34m.\u001b[0m\u001b[0mcurrent_page\u001b[0m \u001b[0;32mis\u001b[0m \u001b[0;32mNone\u001b[0m \u001b[0;32mor\u001b[0m \u001b[0mself\u001b[0m\u001b[0;34m.\u001b[0m\u001b[0mpage_index\u001b[0m \u001b[0;34m==\u001b[0m \u001b[0mlen\u001b[0m\u001b[0;34m(\u001b[0m\u001b[0mself\u001b[0m\u001b[0;34m.\u001b[0m\u001b[0mcurrent_page\u001b[0m\u001b[0;34m)\u001b[0m \u001b[0;34m-\u001b[0m \u001b[0;36m1\u001b[0m\u001b[0;34m:\u001b[0m\u001b[0;34m\u001b[0m\u001b[0;34m\u001b[0m\u001b[0m\n\u001b[1;32m    242\u001b[0m             \u001b[0;31m# Reached end of current page, get the next page...\u001b[0m\u001b[0;34m\u001b[0m\u001b[0;34m\u001b[0m\u001b[0;34m\u001b[0m\u001b[0m\n\u001b[0;32m--> 243\u001b[0;31m             \u001b[0mself\u001b[0m\u001b[0;34m.\u001b[0m\u001b[0mcurrent_page\u001b[0m \u001b[0;34m=\u001b[0m \u001b[0mself\u001b[0m\u001b[0;34m.\u001b[0m\u001b[0mpage_iterator\u001b[0m\u001b[0;34m.\u001b[0m\u001b[0mnext\u001b[0m\u001b[0;34m(\u001b[0m\u001b[0;34m)\u001b[0m\u001b[0;34m\u001b[0m\u001b[0;34m\u001b[0m\u001b[0m\n\u001b[0m\u001b[1;32m    244\u001b[0m             \u001b[0;32mwhile\u001b[0m \u001b[0mlen\u001b[0m\u001b[0;34m(\u001b[0m\u001b[0mself\u001b[0m\u001b[0;34m.\u001b[0m\u001b[0mcurrent_page\u001b[0m\u001b[0;34m)\u001b[0m \u001b[0;34m==\u001b[0m \u001b[0;36m0\u001b[0m\u001b[0;34m:\u001b[0m\u001b[0;34m\u001b[0m\u001b[0;34m\u001b[0m\u001b[0m\n\u001b[1;32m    245\u001b[0m                 \u001b[0mself\u001b[0m\u001b[0;34m.\u001b[0m\u001b[0mcurrent_page\u001b[0m \u001b[0;34m=\u001b[0m \u001b[0mself\u001b[0m\u001b[0;34m.\u001b[0m\u001b[0mpage_iterator\u001b[0m\u001b[0;34m.\u001b[0m\u001b[0mnext\u001b[0m\u001b[0;34m(\u001b[0m\u001b[0;34m)\u001b[0m\u001b[0;34m\u001b[0m\u001b[0;34m\u001b[0m\u001b[0m\n",
            "\u001b[0;32m/usr/local/lib/python3.7/dist-packages/tweepy/cursor.py\u001b[0m in \u001b[0;36mnext\u001b[0;34m(self)\u001b[0m\n\u001b[1;32m    130\u001b[0m \u001b[0;34m\u001b[0m\u001b[0m\n\u001b[1;32m    131\u001b[0m         \u001b[0;32mif\u001b[0m \u001b[0mself\u001b[0m\u001b[0;34m.\u001b[0m\u001b[0mindex\u001b[0m \u001b[0;34m>=\u001b[0m \u001b[0mlen\u001b[0m\u001b[0;34m(\u001b[0m\u001b[0mself\u001b[0m\u001b[0;34m.\u001b[0m\u001b[0mresults\u001b[0m\u001b[0;34m)\u001b[0m \u001b[0;34m-\u001b[0m \u001b[0;36m1\u001b[0m\u001b[0;34m:\u001b[0m\u001b[0;34m\u001b[0m\u001b[0;34m\u001b[0m\u001b[0m\n\u001b[0;32m--> 132\u001b[0;31m             \u001b[0mdata\u001b[0m \u001b[0;34m=\u001b[0m \u001b[0mself\u001b[0m\u001b[0;34m.\u001b[0m\u001b[0mmethod\u001b[0m\u001b[0;34m(\u001b[0m\u001b[0mmax_id\u001b[0m\u001b[0;34m=\u001b[0m\u001b[0mself\u001b[0m\u001b[0;34m.\u001b[0m\u001b[0mmax_id\u001b[0m\u001b[0;34m,\u001b[0m \u001b[0mparser\u001b[0m\u001b[0;34m=\u001b[0m\u001b[0mRawParser\u001b[0m\u001b[0;34m(\u001b[0m\u001b[0;34m)\u001b[0m\u001b[0;34m,\u001b[0m \u001b[0;34m*\u001b[0m\u001b[0mself\u001b[0m\u001b[0;34m.\u001b[0m\u001b[0margs\u001b[0m\u001b[0;34m,\u001b[0m \u001b[0;34m**\u001b[0m\u001b[0mself\u001b[0m\u001b[0;34m.\u001b[0m\u001b[0mkwargs\u001b[0m\u001b[0;34m)\u001b[0m\u001b[0;34m\u001b[0m\u001b[0;34m\u001b[0m\u001b[0m\n\u001b[0m\u001b[1;32m    133\u001b[0m \u001b[0;34m\u001b[0m\u001b[0m\n\u001b[1;32m    134\u001b[0m             \u001b[0;32mif\u001b[0m \u001b[0mhasattr\u001b[0m\u001b[0;34m(\u001b[0m\u001b[0mself\u001b[0m\u001b[0;34m.\u001b[0m\u001b[0mmethod\u001b[0m\u001b[0;34m,\u001b[0m \u001b[0;34m'__self__'\u001b[0m\u001b[0;34m)\u001b[0m\u001b[0;34m:\u001b[0m\u001b[0;34m\u001b[0m\u001b[0;34m\u001b[0m\u001b[0m\n",
            "\u001b[0;32m/usr/local/lib/python3.7/dist-packages/tweepy/binder.py\u001b[0m in \u001b[0;36m_call\u001b[0;34m(*args, **kwargs)\u001b[0m\n\u001b[1;32m    251\u001b[0m                 \u001b[0;32mreturn\u001b[0m \u001b[0mmethod\u001b[0m\u001b[0;34m\u001b[0m\u001b[0;34m\u001b[0m\u001b[0m\n\u001b[1;32m    252\u001b[0m             \u001b[0;32melse\u001b[0m\u001b[0;34m:\u001b[0m\u001b[0;34m\u001b[0m\u001b[0;34m\u001b[0m\u001b[0m\n\u001b[0;32m--> 253\u001b[0;31m                 \u001b[0;32mreturn\u001b[0m \u001b[0mmethod\u001b[0m\u001b[0;34m.\u001b[0m\u001b[0mexecute\u001b[0m\u001b[0;34m(\u001b[0m\u001b[0;34m)\u001b[0m\u001b[0;34m\u001b[0m\u001b[0;34m\u001b[0m\u001b[0m\n\u001b[0m\u001b[1;32m    254\u001b[0m         \u001b[0;32mfinally\u001b[0m\u001b[0;34m:\u001b[0m\u001b[0;34m\u001b[0m\u001b[0;34m\u001b[0m\u001b[0m\n\u001b[1;32m    255\u001b[0m             \u001b[0mmethod\u001b[0m\u001b[0;34m.\u001b[0m\u001b[0msession\u001b[0m\u001b[0;34m.\u001b[0m\u001b[0mclose\u001b[0m\u001b[0;34m(\u001b[0m\u001b[0;34m)\u001b[0m\u001b[0;34m\u001b[0m\u001b[0;34m\u001b[0m\u001b[0m\n",
            "\u001b[0;32m/usr/local/lib/python3.7/dist-packages/tweepy/binder.py\u001b[0m in \u001b[0;36mexecute\u001b[0;34m(self)\u001b[0m\n\u001b[1;32m    232\u001b[0m                     \u001b[0;32mraise\u001b[0m \u001b[0mRateLimitError\u001b[0m\u001b[0;34m(\u001b[0m\u001b[0merror_msg\u001b[0m\u001b[0;34m,\u001b[0m \u001b[0mresp\u001b[0m\u001b[0;34m)\u001b[0m\u001b[0;34m\u001b[0m\u001b[0;34m\u001b[0m\u001b[0m\n\u001b[1;32m    233\u001b[0m                 \u001b[0;32melse\u001b[0m\u001b[0;34m:\u001b[0m\u001b[0;34m\u001b[0m\u001b[0;34m\u001b[0m\u001b[0m\n\u001b[0;32m--> 234\u001b[0;31m                     \u001b[0;32mraise\u001b[0m \u001b[0mTweepError\u001b[0m\u001b[0;34m(\u001b[0m\u001b[0merror_msg\u001b[0m\u001b[0;34m,\u001b[0m \u001b[0mresp\u001b[0m\u001b[0;34m,\u001b[0m \u001b[0mapi_code\u001b[0m\u001b[0;34m=\u001b[0m\u001b[0mapi_error_code\u001b[0m\u001b[0;34m)\u001b[0m\u001b[0;34m\u001b[0m\u001b[0;34m\u001b[0m\u001b[0m\n\u001b[0m\u001b[1;32m    235\u001b[0m \u001b[0;34m\u001b[0m\u001b[0m\n\u001b[1;32m    236\u001b[0m             \u001b[0;31m# Parse the response payload\u001b[0m\u001b[0;34m\u001b[0m\u001b[0;34m\u001b[0m\u001b[0;34m\u001b[0m\u001b[0m\n",
            "\u001b[0;31mTweepError\u001b[0m: Twitter error response: status code = 429"
          ]
        }
      ]
    },
    {
      "cell_type": "code",
      "metadata": {
        "id": "UuCKG3CwBucN"
      },
      "source": [
        "dfTweets = pd.DataFrame.from_dict(tweets_dict)\n",
        "dfTweets"
      ],
      "execution_count": null,
      "outputs": []
    },
    {
      "cell_type": "code",
      "metadata": {
        "id": "ExwxHZdnx5Fj"
      },
      "source": [
        "# Nomeando arquvio\n",
        "nomeNum = len(query) - len(\" -filter:retweets\")\n",
        "nome = query[:nomeNum]\n",
        "\n",
        "from datetime import date\n",
        "\n",
        "data_atual = date.today()\n",
        "print(data_atual)\n",
        "\n",
        "nomeArquivo = \"{} {}.csv\".format(nome, data_atual)"
      ],
      "execution_count": null,
      "outputs": []
    },
    {
      "cell_type": "code",
      "metadata": {
        "id": "_ZkpYtQNwgud"
      },
      "source": [
        "dfTweets.to_csv(nomeArquivo)"
      ],
      "execution_count": null,
      "outputs": []
    },
    {
      "cell_type": "code",
      "metadata": {
        "id": "eAbNAUg6oDBB"
      },
      "source": [
        "print(nomeArquivo)"
      ],
      "execution_count": null,
      "outputs": []
    },
    {
      "cell_type": "markdown",
      "metadata": {
        "id": "oClboSqVbYRC"
      },
      "source": []
    },
    {
      "cell_type": "markdown",
      "metadata": {
        "id": "SxLQCsZTN5jm"
      },
      "source": [
        "# Mineração Twitter Search\n"
      ]
    },
    {
      "cell_type": "code",
      "metadata": {
        "id": "fdvcA00rsf8j"
      },
      "source": [
        "#Importando bibliotecas\n",
        "from datetime import datetime\n",
        "import json\n",
        "import pandas as pd\n",
        "import tweepy\n",
        "import nltk\n",
        "import re"
      ],
      "execution_count": null,
      "outputs": []
    },
    {
      "cell_type": "code",
      "metadata": {
        "id": "ZWF8-khftHRE"
      },
      "source": [
        "#twitter credentials\n",
        "consumer_key = consumer_key,\n",
        "consumer_secret = consumer_secret,\n",
        "access_token = access_token,\n",
        "access_token_secret = access_token_secret\n"
      ],
      "execution_count": null,
      "outputs": []
    },
    {
      "cell_type": "code",
      "metadata": {
        "id": "FZikOj7-yw6O",
        "colab": {
          "base_uri": "https://localhost:8080/"
        },
        "outputId": "f04f079c-41b0-4b10-ec4d-92caf560e101"
      },
      "source": [
        "#Instalação TwitterSearch\n",
        "! pip install TwitterSearch"
      ],
      "execution_count": null,
      "outputs": [
        {
          "output_type": "stream",
          "name": "stdout",
          "text": [
            "Requirement already satisfied: TwitterSearch in /usr/local/lib/python3.7/dist-packages (1.0.2)\n",
            "Requirement already satisfied: requests-oauthlib>=0.3.0 in /usr/local/lib/python3.7/dist-packages (from TwitterSearch) (1.3.0)\n",
            "Requirement already satisfied: requests>=1.0.0 in /usr/local/lib/python3.7/dist-packages (from TwitterSearch) (2.23.0)\n",
            "Requirement already satisfied: chardet<4,>=3.0.2 in /usr/local/lib/python3.7/dist-packages (from requests>=1.0.0->TwitterSearch) (3.0.4)\n",
            "Requirement already satisfied: certifi>=2017.4.17 in /usr/local/lib/python3.7/dist-packages (from requests>=1.0.0->TwitterSearch) (2021.10.8)\n",
            "Requirement already satisfied: idna<3,>=2.5 in /usr/local/lib/python3.7/dist-packages (from requests>=1.0.0->TwitterSearch) (2.10)\n",
            "Requirement already satisfied: urllib3!=1.25.0,!=1.25.1,<1.26,>=1.21.1 in /usr/local/lib/python3.7/dist-packages (from requests>=1.0.0->TwitterSearch) (1.24.3)\n",
            "Requirement already satisfied: oauthlib>=3.0.0 in /usr/local/lib/python3.7/dist-packages (from requests-oauthlib>=0.3.0->TwitterSearch) (3.1.1)\n"
          ]
        }
      ]
    },
    {
      "cell_type": "code",
      "metadata": {
        "id": "Xd2o6dRTtStU"
      },
      "source": [
        "from TwitterSearch import *\n",
        "\n",
        "try:\n",
        "\n",
        "  ts = TwitterSearch(\n",
        "      consumer_key = consumer_key,\n",
        "      consumer_secret = consumer_secret,\n",
        "      access_token = access_token,\n",
        "      access_token_secret = access_token_secret\n",
        "  )\n",
        "\n",
        "  tso = TwitterSearchOrder()\n",
        "  tso.set_keywords(['iphone 13', 'iphone13'], or_operator = True)\n",
        "  tso.set_language('en')\n",
        "  tso.add_keyword(['-filter:retweets'])\n",
        "  tso.add_keyword(['camera','battery','screen','price','design','performance','display'], or_operator = True)\n",
        "\n",
        "  for tweet in ts.search_tweets_iterable(tso):\n",
        "\n",
        "    print('created_at: ',tweet['created_at'], 'User_id: ',tweet['id_str'],'Tweet: ',tweet['text'])\n",
        "\n",
        "    created_at = tweet['created_at']\n",
        "    user_id = tweet['id_str']\n",
        "    texto = tweet['text']\n",
        "\n",
        "    with open(\"tweet.json\", \"a+\") as output:\n",
        "\n",
        "      data = {\"created_at\": created_at,\n",
        "              \"User_id\": user_id,\n",
        "              \"tweet\":texto}\n",
        "\n",
        "      output.write(\"{}\\n\".format(json.dumps(data)))\n",
        "\n",
        "except TwitterSearchException as e:\n",
        "  print(e)"
      ],
      "execution_count": null,
      "outputs": []
    },
    {
      "cell_type": "code",
      "metadata": {
        "id": "qt6sqhHQGFYf"
      },
      "source": [
        "df = pd.read_json('tweet.json', lines = True)"
      ],
      "execution_count": null,
      "outputs": []
    },
    {
      "cell_type": "code",
      "metadata": {
        "colab": {
          "base_uri": "https://localhost:8080/",
          "height": 423
        },
        "id": "rRB__xCQHUGW",
        "outputId": "9d271bb4-ad2f-4109-9a96-909985b0d00c"
      },
      "source": [
        "df"
      ],
      "execution_count": null,
      "outputs": [
        {
          "output_type": "execute_result",
          "data": {
            "text/html": [
              "<div>\n",
              "<style scoped>\n",
              "    .dataframe tbody tr th:only-of-type {\n",
              "        vertical-align: middle;\n",
              "    }\n",
              "\n",
              "    .dataframe tbody tr th {\n",
              "        vertical-align: top;\n",
              "    }\n",
              "\n",
              "    .dataframe thead th {\n",
              "        text-align: right;\n",
              "    }\n",
              "</style>\n",
              "<table border=\"1\" class=\"dataframe\">\n",
              "  <thead>\n",
              "    <tr style=\"text-align: right;\">\n",
              "      <th></th>\n",
              "      <th>created_at</th>\n",
              "      <th>User_id</th>\n",
              "      <th>tweet</th>\n",
              "    </tr>\n",
              "  </thead>\n",
              "  <tbody>\n",
              "    <tr>\n",
              "      <th>0</th>\n",
              "      <td>2021-11-21 21:30:06+00:00</td>\n",
              "      <td>1462533805525319680</td>\n",
              "      <td>[Dome Beads Case] #iPhone13 Silicone Gel Case\\...</td>\n",
              "    </tr>\n",
              "    <tr>\n",
              "      <th>1</th>\n",
              "      <td>2021-11-21 21:17:03+00:00</td>\n",
              "      <td>1462530522173919232</td>\n",
              "      <td>[Dome EZ Glass] screen protector for iPhone 13...</td>\n",
              "    </tr>\n",
              "    <tr>\n",
              "      <th>2</th>\n",
              "      <td>2021-11-21 21:13:03+00:00</td>\n",
              "      <td>1462529514551095296</td>\n",
              "      <td>Whitestone Dome Scope Case for iPhone 13 https...</td>\n",
              "    </tr>\n",
              "    <tr>\n",
              "      <th>3</th>\n",
              "      <td>2021-11-21 20:41:18+00:00</td>\n",
              "      <td>1462521523827359744</td>\n",
              "      <td>How to Remove ‘Oil painting effect’ on iPhone ...</td>\n",
              "    </tr>\n",
              "    <tr>\n",
              "      <th>4</th>\n",
              "      <td>2021-11-21 20:32:56+00:00</td>\n",
              "      <td>1462519418249003008</td>\n",
              "      <td>Anyone else NOT experiencing the “longer batte...</td>\n",
              "    </tr>\n",
              "    <tr>\n",
              "      <th>...</th>\n",
              "      <td>...</td>\n",
              "      <td>...</td>\n",
              "      <td>...</td>\n",
              "    </tr>\n",
              "    <tr>\n",
              "      <th>5311</th>\n",
              "      <td>2021-11-14 01:04:41+00:00</td>\n",
              "      <td>1459688706080579584</td>\n",
              "      <td>Camera Len Tempered Glass Protective 3D Full P...</td>\n",
              "    </tr>\n",
              "    <tr>\n",
              "      <th>5312</th>\n",
              "      <td>2021-11-14 01:04:31+00:00</td>\n",
              "      <td>1459688663697268736</td>\n",
              "      <td>Best iPhone 13 Accessories - Cases, Screen Pro...</td>\n",
              "    </tr>\n",
              "    <tr>\n",
              "      <th>5313</th>\n",
              "      <td>2021-11-14 01:03:56+00:00</td>\n",
              "      <td>1459688515294445568</td>\n",
              "      <td>Best iPhone 13 Accessories - Cases, Screen Pro...</td>\n",
              "    </tr>\n",
              "    <tr>\n",
              "      <th>5314</th>\n",
              "      <td>2021-11-14 01:03:17+00:00</td>\n",
              "      <td>1459688351439769600</td>\n",
              "      <td>Best iPhone 13 Accessories - Cases, Screen Pro...</td>\n",
              "    </tr>\n",
              "    <tr>\n",
              "      <th>5315</th>\n",
              "      <td>2021-11-14 01:02:58+00:00</td>\n",
              "      <td>1459688272666443776</td>\n",
              "      <td>Best iPhone 13 Accessories - Cases, Screen Pro...</td>\n",
              "    </tr>\n",
              "  </tbody>\n",
              "</table>\n",
              "<p>5316 rows × 3 columns</p>\n",
              "</div>"
            ],
            "text/plain": [
              "                    created_at  ...                                              tweet\n",
              "0    2021-11-21 21:30:06+00:00  ...  [Dome Beads Case] #iPhone13 Silicone Gel Case\\...\n",
              "1    2021-11-21 21:17:03+00:00  ...  [Dome EZ Glass] screen protector for iPhone 13...\n",
              "2    2021-11-21 21:13:03+00:00  ...  Whitestone Dome Scope Case for iPhone 13 https...\n",
              "3    2021-11-21 20:41:18+00:00  ...  How to Remove ‘Oil painting effect’ on iPhone ...\n",
              "4    2021-11-21 20:32:56+00:00  ...  Anyone else NOT experiencing the “longer batte...\n",
              "...                        ...  ...                                                ...\n",
              "5311 2021-11-14 01:04:41+00:00  ...  Camera Len Tempered Glass Protective 3D Full P...\n",
              "5312 2021-11-14 01:04:31+00:00  ...  Best iPhone 13 Accessories - Cases, Screen Pro...\n",
              "5313 2021-11-14 01:03:56+00:00  ...  Best iPhone 13 Accessories - Cases, Screen Pro...\n",
              "5314 2021-11-14 01:03:17+00:00  ...  Best iPhone 13 Accessories - Cases, Screen Pro...\n",
              "5315 2021-11-14 01:02:58+00:00  ...  Best iPhone 13 Accessories - Cases, Screen Pro...\n",
              "\n",
              "[5316 rows x 3 columns]"
            ]
          },
          "metadata": {},
          "execution_count": 30
        }
      ]
    },
    {
      "cell_type": "code",
      "metadata": {
        "id": "EnRxvXKeGVnd",
        "colab": {
          "base_uri": "https://localhost:8080/"
        },
        "outputId": "f21e7efe-61c0-4db6-d68a-17c2e56647ba"
      },
      "source": [
        "# Nomeando arquvio\n",
        "nome = \"iphone 13 geral\"\n",
        "\n",
        "from datetime import date\n",
        "\n",
        "data_atual = date.today()\n",
        "print(data_atual)\n",
        "\n",
        "nomeArquivo = \"{} {}.csv\".format(nome, data_atual)"
      ],
      "execution_count": null,
      "outputs": [
        {
          "output_type": "stream",
          "name": "stdout",
          "text": [
            "2021-11-21\n"
          ]
        }
      ]
    },
    {
      "cell_type": "code",
      "metadata": {
        "id": "nnqO-ZaZGYNM"
      },
      "source": [
        "df.to_csv(nomeArquivo)"
      ],
      "execution_count": null,
      "outputs": []
    },
    {
      "cell_type": "markdown",
      "metadata": {
        "id": "iLKtbcSCcQFP"
      },
      "source": [
        "#Chamando Arquivos"
      ]
    },
    {
      "cell_type": "code",
      "metadata": {
        "id": "C1STq5NvpLSS"
      },
      "source": [
        "#Chamando arquivos\n",
        "dfIphone13battery = pd.read_csv('galaxy s21 AND battery 2021-10-26.csv', index_col = 0)\n",
        "dfIphone13camera = pd.read_csv('galaxy s21 AND camera 2021-10-26.csv', index_col = 0)\n",
        "dfIphone13design = pd.read_csv('galaxy s21 AND design 2021-10-26.csv', index_col = 0)\n",
        "dfIphone13display = pd.read_csv('galaxy s21 AND display 2021-10-26.csv', index_col = 0)\n",
        "dfIphone13performance = pd.read_csv('galaxy s21 AND performance 2021-10-26.csv', index_col = 0)\n",
        "dfIphone13price = pd.read_csv('galaxy s21 AND price 2021-10-26.csv', index_col = 0)\n",
        "dfIphone13screen = pd.read_csv('galaxy s21 AND screen 2021-10-26.csv', index_col = 0)\n",
        "dfIphone13batteryj = pd.read_csv('galaxys21 AND battery 2021-10-26.csv', index_col = 0)\n",
        "dfIphone13cameraj = pd.read_csv('galaxys21 AND camera 2021-10-26.csv', index_col = 0)\n",
        "dfIphone13designj = pd.read_csv('galaxys21 AND design 2021-10-26.csv', index_col = 0)\n",
        "dfIphone13displayj = pd.read_csv('galaxys21 AND display 2021-10-26.csv', index_col = 0)\n",
        "dfIphone13performancej = pd.read_csv('galaxys21 AND performance 2021-10-26.csv', index_col = 0)\n",
        "dfIphone13pricej = pd.read_csv('galaxys21 AND price 2021-10-26.csv', index_col = 0)\n",
        "dfIphone13screenj = pd.read_csv('galaxys21 AND screen 2021-10-26.csv', index_col = 0)\n",
        "\n",
        "#Chamando arquivos iphone 13\n",
        "# dfExtracao1Iphone13 = pd.read_csv('iphone geral 2021-10-25.csv', index_col = 0)\n",
        "# dfExtracao2Iphone13 = pd.read_csv('iphone geral 2021-11-01.csv', index_col = 0)\n",
        "# dfExtracao3Iphone13 = pd.read_csv('iphone 13 geral 2021-11-11.csv', index_col = 0)\n",
        "# dfExtracao4Iphone13 = pd.read_csv('iphone 13 geral 2021-11-21.csv', index_col = 0)\n",
        "\n",
        "#Chamando arquivos galaxy S21\n",
        "dfExtracao1GalaxyS21 = pd.read_csv('galaxy geral 2021-10-26.csv', index_col = 0)\n",
        "dfExtracao2GalaxyS21 = pd.read_csv('galaxy geral 2021-11-06.csv', index_col = 0)\n",
        "dfExtracao3GalaxyS21 = pd.read_csv('Galaxy S21 2021-11-11.csv', index_col = 0)\n",
        "dfExtracao4GalaxyS21 = pd.read_csv('sansung S21 geral 2021-11-21.csv', index_col = 0)\n",
        "\n"
      ],
      "execution_count": null,
      "outputs": []
    },
    {
      "cell_type": "code",
      "metadata": {
        "colab": {
          "base_uri": "https://localhost:8080/",
          "height": 423
        },
        "id": "KnmBeko45Xkq",
        "outputId": "a11c1555-952d-4243-97fb-74eea2c0c964"
      },
      "source": [
        "#dfCompilado = pd.concat([dfGalaxyS21battery, dfGalaxyS21camera, dfGalaxyS21design, dfGalaxyS21display, dfGalaxyS21performance, dfGalaxyS21price, dfGalaxyS21screen, dfGalaxyS21cameraj, dfGalaxyS21displayj, dfGalaxyS21pricej, dfGalaxyS21screenj])\n",
        "dfCompilado = pd.concat([dfExtracao1GalaxyS21, dfExtracao2GalaxyS21, dfExtracao3GalaxyS21, dfExtracao4GalaxyS21])\n",
        "dfCompilado"
      ],
      "execution_count": null,
      "outputs": [
        {
          "output_type": "execute_result",
          "data": {
            "text/html": [
              "<div>\n",
              "<style scoped>\n",
              "    .dataframe tbody tr th:only-of-type {\n",
              "        vertical-align: middle;\n",
              "    }\n",
              "\n",
              "    .dataframe tbody tr th {\n",
              "        vertical-align: top;\n",
              "    }\n",
              "\n",
              "    .dataframe thead th {\n",
              "        text-align: right;\n",
              "    }\n",
              "</style>\n",
              "<table border=\"1\" class=\"dataframe\">\n",
              "  <thead>\n",
              "    <tr style=\"text-align: right;\">\n",
              "      <th></th>\n",
              "      <th>created_at</th>\n",
              "      <th>User_id</th>\n",
              "      <th>tweet</th>\n",
              "    </tr>\n",
              "  </thead>\n",
              "  <tbody>\n",
              "    <tr>\n",
              "      <th>0</th>\n",
              "      <td>Mon Oct 25 18:03:17 +0000 2021</td>\n",
              "      <td>1452697285310230540</td>\n",
              "      <td>@khi_daking4 @a_for_albert @realutsavdoshi My ...</td>\n",
              "    </tr>\n",
              "    <tr>\n",
              "      <th>1</th>\n",
              "      <td>Mon Oct 25 14:42:49 +0000 2021</td>\n",
              "      <td>1452646838922776587</td>\n",
              "      <td>Samsung Galaxy S21 Ultra Power Bank Case https...</td>\n",
              "    </tr>\n",
              "    <tr>\n",
              "      <th>2</th>\n",
              "      <td>Mon Oct 25 12:16:32 +0000 2021</td>\n",
              "      <td>1452610025667563525</td>\n",
              "      <td>The September Security Patch for the Samsung G...</td>\n",
              "    </tr>\n",
              "    <tr>\n",
              "      <th>3</th>\n",
              "      <td>Mon Oct 25 07:29:59 +0000 2021</td>\n",
              "      <td>1452537911455338497</td>\n",
              "      <td>Galaxy S21 battery replacement | S21 Plus | Ge...</td>\n",
              "    </tr>\n",
              "    <tr>\n",
              "      <th>4</th>\n",
              "      <td>Sun Oct 24 18:02:38 +0000 2021</td>\n",
              "      <td>1452334733036343306</td>\n",
              "      <td>With a sleek new design, hyperfast processing ...</td>\n",
              "    </tr>\n",
              "    <tr>\n",
              "      <th>...</th>\n",
              "      <td>...</td>\n",
              "      <td>...</td>\n",
              "      <td>...</td>\n",
              "    </tr>\n",
              "    <tr>\n",
              "      <th>2718</th>\n",
              "      <td>2021-11-13 11:17:13+00:00</td>\n",
              "      <td>1459480464637399040</td>\n",
              "      <td>Sell/buy/repair Samsung smartphones best price...</td>\n",
              "    </tr>\n",
              "    <tr>\n",
              "      <th>2719</th>\n",
              "      <td>2021-11-13 08:42:52+00:00</td>\n",
              "      <td>1459441622890913792</td>\n",
              "      <td>Sell/buy/repair Samsung smartphones best price...</td>\n",
              "    </tr>\n",
              "    <tr>\n",
              "      <th>2720</th>\n",
              "      <td>2021-11-13 08:42:37+00:00</td>\n",
              "      <td>1459441559628173312</td>\n",
              "      <td>Sell/buy/repair Samsung smartphones best price...</td>\n",
              "    </tr>\n",
              "    <tr>\n",
              "      <th>2721</th>\n",
              "      <td>2021-11-13 04:07:58+00:00</td>\n",
              "      <td>1459372439763243008</td>\n",
              "      <td>Sell/buy/repair Samsung smartphones best price...</td>\n",
              "    </tr>\n",
              "    <tr>\n",
              "      <th>2722</th>\n",
              "      <td>2021-11-13 03:45:06+00:00</td>\n",
              "      <td>1459366687799590912</td>\n",
              "      <td>Sell/buy/repair Samsung smartphones best price...</td>\n",
              "    </tr>\n",
              "  </tbody>\n",
              "</table>\n",
              "<p>7529 rows × 3 columns</p>\n",
              "</div>"
            ],
            "text/plain": [
              "                          created_at  ...                                              tweet\n",
              "0     Mon Oct 25 18:03:17 +0000 2021  ...  @khi_daking4 @a_for_albert @realutsavdoshi My ...\n",
              "1     Mon Oct 25 14:42:49 +0000 2021  ...  Samsung Galaxy S21 Ultra Power Bank Case https...\n",
              "2     Mon Oct 25 12:16:32 +0000 2021  ...  The September Security Patch for the Samsung G...\n",
              "3     Mon Oct 25 07:29:59 +0000 2021  ...  Galaxy S21 battery replacement | S21 Plus | Ge...\n",
              "4     Sun Oct 24 18:02:38 +0000 2021  ...  With a sleek new design, hyperfast processing ...\n",
              "...                              ...  ...                                                ...\n",
              "2718       2021-11-13 11:17:13+00:00  ...  Sell/buy/repair Samsung smartphones best price...\n",
              "2719       2021-11-13 08:42:52+00:00  ...  Sell/buy/repair Samsung smartphones best price...\n",
              "2720       2021-11-13 08:42:37+00:00  ...  Sell/buy/repair Samsung smartphones best price...\n",
              "2721       2021-11-13 04:07:58+00:00  ...  Sell/buy/repair Samsung smartphones best price...\n",
              "2722       2021-11-13 03:45:06+00:00  ...  Sell/buy/repair Samsung smartphones best price...\n",
              "\n",
              "[7529 rows x 3 columns]"
            ]
          },
          "metadata": {},
          "execution_count": 241
        }
      ]
    },
    {
      "cell_type": "code",
      "metadata": {
        "id": "eMrtHZRj8f0d"
      },
      "source": [
        "dfCompilado.reset_index(inplace=True)\n",
        "dfCompilado.drop(columns=['index'], inplace=True)"
      ],
      "execution_count": null,
      "outputs": []
    },
    {
      "cell_type": "code",
      "metadata": {
        "colab": {
          "base_uri": "https://localhost:8080/",
          "height": 423
        },
        "id": "Qyb7pKft9eFJ",
        "outputId": "712902bb-9f31-41d4-aaf2-e48ea0b468c8"
      },
      "source": [
        "dfCompilado\n"
      ],
      "execution_count": null,
      "outputs": [
        {
          "output_type": "execute_result",
          "data": {
            "text/html": [
              "<div>\n",
              "<style scoped>\n",
              "    .dataframe tbody tr th:only-of-type {\n",
              "        vertical-align: middle;\n",
              "    }\n",
              "\n",
              "    .dataframe tbody tr th {\n",
              "        vertical-align: top;\n",
              "    }\n",
              "\n",
              "    .dataframe thead th {\n",
              "        text-align: right;\n",
              "    }\n",
              "</style>\n",
              "<table border=\"1\" class=\"dataframe\">\n",
              "  <thead>\n",
              "    <tr style=\"text-align: right;\">\n",
              "      <th></th>\n",
              "      <th>created_at</th>\n",
              "      <th>User_id</th>\n",
              "      <th>tweet</th>\n",
              "    </tr>\n",
              "  </thead>\n",
              "  <tbody>\n",
              "    <tr>\n",
              "      <th>0</th>\n",
              "      <td>Mon Oct 25 18:03:17 +0000 2021</td>\n",
              "      <td>1452697285310230540</td>\n",
              "      <td>@khi_daking4 @a_for_albert @realutsavdoshi My ...</td>\n",
              "    </tr>\n",
              "    <tr>\n",
              "      <th>1</th>\n",
              "      <td>Mon Oct 25 14:42:49 +0000 2021</td>\n",
              "      <td>1452646838922776587</td>\n",
              "      <td>Samsung Galaxy S21 Ultra Power Bank Case https...</td>\n",
              "    </tr>\n",
              "    <tr>\n",
              "      <th>2</th>\n",
              "      <td>Mon Oct 25 12:16:32 +0000 2021</td>\n",
              "      <td>1452610025667563525</td>\n",
              "      <td>The September Security Patch for the Samsung G...</td>\n",
              "    </tr>\n",
              "    <tr>\n",
              "      <th>3</th>\n",
              "      <td>Mon Oct 25 07:29:59 +0000 2021</td>\n",
              "      <td>1452537911455338497</td>\n",
              "      <td>Galaxy S21 battery replacement | S21 Plus | Ge...</td>\n",
              "    </tr>\n",
              "    <tr>\n",
              "      <th>4</th>\n",
              "      <td>Sun Oct 24 18:02:38 +0000 2021</td>\n",
              "      <td>1452334733036343306</td>\n",
              "      <td>With a sleek new design, hyperfast processing ...</td>\n",
              "    </tr>\n",
              "    <tr>\n",
              "      <th>...</th>\n",
              "      <td>...</td>\n",
              "      <td>...</td>\n",
              "      <td>...</td>\n",
              "    </tr>\n",
              "    <tr>\n",
              "      <th>7524</th>\n",
              "      <td>2021-11-13 11:17:13+00:00</td>\n",
              "      <td>1459480464637399040</td>\n",
              "      <td>Sell/buy/repair Samsung smartphones best price...</td>\n",
              "    </tr>\n",
              "    <tr>\n",
              "      <th>7525</th>\n",
              "      <td>2021-11-13 08:42:52+00:00</td>\n",
              "      <td>1459441622890913792</td>\n",
              "      <td>Sell/buy/repair Samsung smartphones best price...</td>\n",
              "    </tr>\n",
              "    <tr>\n",
              "      <th>7526</th>\n",
              "      <td>2021-11-13 08:42:37+00:00</td>\n",
              "      <td>1459441559628173312</td>\n",
              "      <td>Sell/buy/repair Samsung smartphones best price...</td>\n",
              "    </tr>\n",
              "    <tr>\n",
              "      <th>7527</th>\n",
              "      <td>2021-11-13 04:07:58+00:00</td>\n",
              "      <td>1459372439763243008</td>\n",
              "      <td>Sell/buy/repair Samsung smartphones best price...</td>\n",
              "    </tr>\n",
              "    <tr>\n",
              "      <th>7528</th>\n",
              "      <td>2021-11-13 03:45:06+00:00</td>\n",
              "      <td>1459366687799590912</td>\n",
              "      <td>Sell/buy/repair Samsung smartphones best price...</td>\n",
              "    </tr>\n",
              "  </tbody>\n",
              "</table>\n",
              "<p>7529 rows × 3 columns</p>\n",
              "</div>"
            ],
            "text/plain": [
              "                          created_at  ...                                              tweet\n",
              "0     Mon Oct 25 18:03:17 +0000 2021  ...  @khi_daking4 @a_for_albert @realutsavdoshi My ...\n",
              "1     Mon Oct 25 14:42:49 +0000 2021  ...  Samsung Galaxy S21 Ultra Power Bank Case https...\n",
              "2     Mon Oct 25 12:16:32 +0000 2021  ...  The September Security Patch for the Samsung G...\n",
              "3     Mon Oct 25 07:29:59 +0000 2021  ...  Galaxy S21 battery replacement | S21 Plus | Ge...\n",
              "4     Sun Oct 24 18:02:38 +0000 2021  ...  With a sleek new design, hyperfast processing ...\n",
              "...                              ...  ...                                                ...\n",
              "7524       2021-11-13 11:17:13+00:00  ...  Sell/buy/repair Samsung smartphones best price...\n",
              "7525       2021-11-13 08:42:52+00:00  ...  Sell/buy/repair Samsung smartphones best price...\n",
              "7526       2021-11-13 08:42:37+00:00  ...  Sell/buy/repair Samsung smartphones best price...\n",
              "7527       2021-11-13 04:07:58+00:00  ...  Sell/buy/repair Samsung smartphones best price...\n",
              "7528       2021-11-13 03:45:06+00:00  ...  Sell/buy/repair Samsung smartphones best price...\n",
              "\n",
              "[7529 rows x 3 columns]"
            ]
          },
          "metadata": {},
          "execution_count": 243
        }
      ]
    },
    {
      "cell_type": "code",
      "metadata": {
        "colab": {
          "base_uri": "https://localhost:8080/",
          "height": 423
        },
        "id": "HTh1oWPQBv4T",
        "outputId": "61bfbd7e-8bdf-40c0-a97f-20b07ed059f4"
      },
      "source": [
        "dfCompilado.rename(columns={\"created_at\": \"created_at\", \"id\": \"User_id\", \"text\": \"tweet\"}, inplace=True)\n",
        "dfCompilado"
      ],
      "execution_count": null,
      "outputs": [
        {
          "output_type": "execute_result",
          "data": {
            "text/html": [
              "<div>\n",
              "<style scoped>\n",
              "    .dataframe tbody tr th:only-of-type {\n",
              "        vertical-align: middle;\n",
              "    }\n",
              "\n",
              "    .dataframe tbody tr th {\n",
              "        vertical-align: top;\n",
              "    }\n",
              "\n",
              "    .dataframe thead th {\n",
              "        text-align: right;\n",
              "    }\n",
              "</style>\n",
              "<table border=\"1\" class=\"dataframe\">\n",
              "  <thead>\n",
              "    <tr style=\"text-align: right;\">\n",
              "      <th></th>\n",
              "      <th>created_at</th>\n",
              "      <th>User_id</th>\n",
              "      <th>tweet</th>\n",
              "    </tr>\n",
              "  </thead>\n",
              "  <tbody>\n",
              "    <tr>\n",
              "      <th>0</th>\n",
              "      <td>Mon Oct 25 18:03:17 +0000 2021</td>\n",
              "      <td>1452697285310230540</td>\n",
              "      <td>@khi_daking4 @a_for_albert @realutsavdoshi My ...</td>\n",
              "    </tr>\n",
              "    <tr>\n",
              "      <th>1</th>\n",
              "      <td>Mon Oct 25 14:42:49 +0000 2021</td>\n",
              "      <td>1452646838922776587</td>\n",
              "      <td>Samsung Galaxy S21 Ultra Power Bank Case https...</td>\n",
              "    </tr>\n",
              "    <tr>\n",
              "      <th>2</th>\n",
              "      <td>Mon Oct 25 12:16:32 +0000 2021</td>\n",
              "      <td>1452610025667563525</td>\n",
              "      <td>The September Security Patch for the Samsung G...</td>\n",
              "    </tr>\n",
              "    <tr>\n",
              "      <th>3</th>\n",
              "      <td>Mon Oct 25 07:29:59 +0000 2021</td>\n",
              "      <td>1452537911455338497</td>\n",
              "      <td>Galaxy S21 battery replacement | S21 Plus | Ge...</td>\n",
              "    </tr>\n",
              "    <tr>\n",
              "      <th>4</th>\n",
              "      <td>Sun Oct 24 18:02:38 +0000 2021</td>\n",
              "      <td>1452334733036343306</td>\n",
              "      <td>With a sleek new design, hyperfast processing ...</td>\n",
              "    </tr>\n",
              "    <tr>\n",
              "      <th>...</th>\n",
              "      <td>...</td>\n",
              "      <td>...</td>\n",
              "      <td>...</td>\n",
              "    </tr>\n",
              "    <tr>\n",
              "      <th>783</th>\n",
              "      <td>Sun Oct 17 11:42:00 +0000 2021</td>\n",
              "      <td>1449702231821864963</td>\n",
              "      <td>Sell/buy/repair Samsung smartphones best price...</td>\n",
              "    </tr>\n",
              "    <tr>\n",
              "      <th>784</th>\n",
              "      <td>Sun Oct 17 11:16:46 +0000 2021</td>\n",
              "      <td>1449695881045811201</td>\n",
              "      <td>Sell/buy/repair Samsung smartphones best price...</td>\n",
              "    </tr>\n",
              "    <tr>\n",
              "      <th>785</th>\n",
              "      <td>Sun Oct 17 06:49:05 +0000 2021</td>\n",
              "      <td>1449628516119564300</td>\n",
              "      <td>Sell/buy/repair Samsung smartphones best price...</td>\n",
              "    </tr>\n",
              "    <tr>\n",
              "      <th>786</th>\n",
              "      <td>Sun Oct 17 06:45:01 +0000 2021</td>\n",
              "      <td>1449627493002989573</td>\n",
              "      <td>Sell/buy/repair Samsung smartphones best price...</td>\n",
              "    </tr>\n",
              "    <tr>\n",
              "      <th>787</th>\n",
              "      <td>Mon Oct 25 16:50:42 +0000 2021</td>\n",
              "      <td>1452679018990358533</td>\n",
              "      <td>As someone who uses the @SamsungMobileUS #Gala...</td>\n",
              "    </tr>\n",
              "  </tbody>\n",
              "</table>\n",
              "<p>788 rows × 3 columns</p>\n",
              "</div>"
            ],
            "text/plain": [
              "                         created_at  ...                                              tweet\n",
              "0    Mon Oct 25 18:03:17 +0000 2021  ...  @khi_daking4 @a_for_albert @realutsavdoshi My ...\n",
              "1    Mon Oct 25 14:42:49 +0000 2021  ...  Samsung Galaxy S21 Ultra Power Bank Case https...\n",
              "2    Mon Oct 25 12:16:32 +0000 2021  ...  The September Security Patch for the Samsung G...\n",
              "3    Mon Oct 25 07:29:59 +0000 2021  ...  Galaxy S21 battery replacement | S21 Plus | Ge...\n",
              "4    Sun Oct 24 18:02:38 +0000 2021  ...  With a sleek new design, hyperfast processing ...\n",
              "..                              ...  ...                                                ...\n",
              "783  Sun Oct 17 11:42:00 +0000 2021  ...  Sell/buy/repair Samsung smartphones best price...\n",
              "784  Sun Oct 17 11:16:46 +0000 2021  ...  Sell/buy/repair Samsung smartphones best price...\n",
              "785  Sun Oct 17 06:49:05 +0000 2021  ...  Sell/buy/repair Samsung smartphones best price...\n",
              "786  Sun Oct 17 06:45:01 +0000 2021  ...  Sell/buy/repair Samsung smartphones best price...\n",
              "787  Mon Oct 25 16:50:42 +0000 2021  ...  As someone who uses the @SamsungMobileUS #Gala...\n",
              "\n",
              "[788 rows x 3 columns]"
            ]
          },
          "metadata": {},
          "execution_count": 237
        }
      ]
    },
    {
      "cell_type": "code",
      "metadata": {
        "id": "ivjPVK1BzpGc"
      },
      "source": [
        "dfCompilado.to_csv(\"galaxy geral 2021-10-26.csv\")"
      ],
      "execution_count": null,
      "outputs": []
    },
    {
      "cell_type": "code",
      "metadata": {
        "colab": {
          "base_uri": "https://localhost:8080/",
          "height": 331
        },
        "id": "HS90pbNWYKkL",
        "outputId": "de823ca6-feee-4b66-98d6-fcdf6f87e59c"
      },
      "source": [
        "sentences = [\n",
        "    'iPhone 13 Pro has incredible battery, lasting around 24 hours with 6 hours of screen on time. Just too good!',\n",
        "    'Iphone 13 battery is so good bruh',\n",
        "    'The iPhone 13 camera is wonderful',\n",
        "    'The iphone 13 battery life is really good yo.',\n",
        "    'The #iphone 13 pro has officially the worst design in terms of comfort in hand. Extremely inconvenient and causes joint pain #iPhone13Pro',\n",
        "    '@BiteSizeRi No, what you need is the samsung galaxy s21 ultra.. that muthafucka got best camera not cap!',\n",
        "    '@KellieADennis74 I got my new Galaxy S21 a few weeks ago. Its the prettiest phone I have ever had.',\n",
        "    '@EzTech231 The Samsung Galaxy S21 Ultra is my favorite phone. Screens great and performance is great',\n",
        "    '@ashdogx I have the Galaxy S21 Ultra and this phone is pretty darn big. The Camera is great and the battery life is fantastic',\n",
        "]\n",
        "\n",
        "df = pd.DataFrame(sentences, columns = ['tweet'])\n",
        "df\n"
      ],
      "execution_count": null,
      "outputs": [
        {
          "output_type": "execute_result",
          "data": {
            "text/html": [
              "<div>\n",
              "<style scoped>\n",
              "    .dataframe tbody tr th:only-of-type {\n",
              "        vertical-align: middle;\n",
              "    }\n",
              "\n",
              "    .dataframe tbody tr th {\n",
              "        vertical-align: top;\n",
              "    }\n",
              "\n",
              "    .dataframe thead th {\n",
              "        text-align: right;\n",
              "    }\n",
              "</style>\n",
              "<table border=\"1\" class=\"dataframe\">\n",
              "  <thead>\n",
              "    <tr style=\"text-align: right;\">\n",
              "      <th></th>\n",
              "      <th>tweet</th>\n",
              "    </tr>\n",
              "  </thead>\n",
              "  <tbody>\n",
              "    <tr>\n",
              "      <th>0</th>\n",
              "      <td>iPhone 13 Pro has incredible battery, lasting ...</td>\n",
              "    </tr>\n",
              "    <tr>\n",
              "      <th>1</th>\n",
              "      <td>Iphone 13 battery is so good bruh</td>\n",
              "    </tr>\n",
              "    <tr>\n",
              "      <th>2</th>\n",
              "      <td>The iPhone 13 camera is wonderful</td>\n",
              "    </tr>\n",
              "    <tr>\n",
              "      <th>3</th>\n",
              "      <td>The iphone 13 battery life is really good yo.</td>\n",
              "    </tr>\n",
              "    <tr>\n",
              "      <th>4</th>\n",
              "      <td>The #iphone 13 pro has officially the worst de...</td>\n",
              "    </tr>\n",
              "    <tr>\n",
              "      <th>5</th>\n",
              "      <td>@BiteSizeRi No, what you need is the samsung g...</td>\n",
              "    </tr>\n",
              "    <tr>\n",
              "      <th>6</th>\n",
              "      <td>@KellieADennis74 I got my new Galaxy S21 a few...</td>\n",
              "    </tr>\n",
              "    <tr>\n",
              "      <th>7</th>\n",
              "      <td>@EzTech231 The Samsung Galaxy S21 Ultra is my ...</td>\n",
              "    </tr>\n",
              "    <tr>\n",
              "      <th>8</th>\n",
              "      <td>@ashdogx I have the Galaxy S21 Ultra and this ...</td>\n",
              "    </tr>\n",
              "  </tbody>\n",
              "</table>\n",
              "</div>"
            ],
            "text/plain": [
              "                                               tweet\n",
              "0  iPhone 13 Pro has incredible battery, lasting ...\n",
              "1                  Iphone 13 battery is so good bruh\n",
              "2                  The iPhone 13 camera is wonderful\n",
              "3      The iphone 13 battery life is really good yo.\n",
              "4  The #iphone 13 pro has officially the worst de...\n",
              "5  @BiteSizeRi No, what you need is the samsung g...\n",
              "6  @KellieADennis74 I got my new Galaxy S21 a few...\n",
              "7  @EzTech231 The Samsung Galaxy S21 Ultra is my ...\n",
              "8  @ashdogx I have the Galaxy S21 Ultra and this ..."
            ]
          },
          "metadata": {},
          "execution_count": 97
        }
      ]
    },
    {
      "cell_type": "markdown",
      "metadata": {
        "id": "wqf2BovbV41a"
      },
      "source": [
        "#Pré-Processamento"
      ]
    },
    {
      "cell_type": "code",
      "metadata": {
        "id": "Ryt7JO3MU6ZE"
      },
      "source": [
        "import re"
      ],
      "execution_count": null,
      "outputs": []
    },
    {
      "cell_type": "code",
      "metadata": {
        "id": "fgyqAnYHTvdu"
      },
      "source": [
        "#Pre Processamento\n",
        "\n",
        "def Preprocessing(instancia):\n",
        "\n",
        "  #Limpa links, pontos, virgulas, ponto, virgula e tralha\n",
        "  instancia = re.sub(r\"http\\S+\",\"\",instancia).lower().replace('.','').replace(';','').replace('-','').replace(':','').replace('#','')\n",
        "\n",
        "  #Limpa menções\n",
        "  instancia = re.sub(r\"@\\S+\",\"\",instancia).lower()\n",
        "\n",
        "  #Limpa retweets & cc\n",
        "  # instancia = re.sub(r'rt|cc', '',instancia).lower()\n",
        "\n",
        "  #Limpa espaços extras\n",
        "  instancia = re.sub(r' +', ' ',instancia).lower()\n",
        "\n",
        "  #Limpa html tags\n",
        "  instancia = re.sub(r'<.*?>', ' ',instancia).lower()\n",
        "\n",
        "  #Limpa hashtags\n",
        "  # instancia = re.sub(r'#\\S+', ' ',instancia).lower()\n",
        "\n",
        "  #Limpa emojis\n",
        "  emoji_pattern = re.compile(\"[\"\n",
        "        u\"\\U0001F600-\\U0001F64F\"  # emoticons\n",
        "        u\"\\U0001F300-\\U0001F5FF\"  # symbols & pictographs\n",
        "        u\"\\U0001F680-\\U0001F6FF\"  # transport & map symbols\n",
        "        u\"\\U0001F1E0-\\U0001F1FF\"  # flags (iOS)\n",
        "        u\"\\U00002500-\\U00002BEF\"  # chinese char\n",
        "        u\"\\U00002702-\\U000027B0\"\n",
        "        u\"\\U00002702-\\U000027B0\"\n",
        "        u\"\\U000024C2-\\U0001F251\"\n",
        "        u\"\\U0001f926-\\U0001f937\"\n",
        "        u\"\\U00010000-\\U0010ffff\"\n",
        "        u\"\\u2640-\\u2642\" \n",
        "        u\"\\u2600-\\u2B55\"\n",
        "        u\"\\u200d\"\n",
        "        u\"\\u23cf\"\n",
        "        u\"\\u23e9\"\n",
        "        u\"\\u231a\"\n",
        "        u\"\\ufe0f\"  # dingbats\n",
        "        u\"\\u3030\"\n",
        "                      \"]+\", re.UNICODE)\n",
        "  instancia = (emoji_pattern.sub(r'', instancia))\n",
        "\n",
        "  #Limpa Stopwords\n",
        "  #stopwords = set(nltk.corpus.stopwords.words('english'))\n",
        "  #palavaras = [i for i in instancia.split() if not i in stopwords]\n",
        "  #return (\" \".join(palavaras))\n",
        "\n",
        "  return(instancia)"
      ],
      "execution_count": null,
      "outputs": []
    },
    {
      "cell_type": "code",
      "metadata": {
        "colab": {
          "base_uri": "https://localhost:8080/"
        },
        "id": "C50pz_rOUIsH",
        "outputId": "c2c138cd-31c0-4d70-dda8-f500402c11eb"
      },
      "source": [
        "#Aplicando Pre Processamento\n",
        "tweets = [Preprocessing(i) for i in df.tweet]\n",
        "\n",
        "#Ultimo tratamento\n",
        "newTweetsList = []\n",
        "for i in tweets:\n",
        "  newTweetsList.append(i.strip())\n",
        "print(newTweetsList)"
      ],
      "execution_count": null,
      "outputs": [
        {
          "output_type": "stream",
          "name": "stdout",
          "text": [
            "['iphone 13 pro has incredible battery, lasting around 24 hours with 6 hours of screen on time just too good!', 'iphone 13 battery is so good bruh', 'the iphone 13 camera is wonderful', 'the iphone 13 battery life is really good yo', 'the iphone 13 pro has officially the worst design in terms of comfort in hand extremely inconvenient and causes joint pain iphone13pro', 'no, what you need is the samsung galaxy s21 ultra that muthafucka got best camera not cap!', 'i got my new galaxy s21 a few weeks ago its the prettiest phone i have ever had', 'the samsung galaxy s21 ultra is my favorite phone screens great and performance is great', 'i have the galaxy s21 ultra and this phone is pretty darn big the camera is great and the battery life is fantastic']\n"
          ]
        }
      ]
    },
    {
      "cell_type": "code",
      "metadata": {
        "colab": {
          "base_uri": "https://localhost:8080/",
          "height": 331
        },
        "id": "h1RWKcRPUlhD",
        "outputId": "d334d854-bf21-4a6f-8f35-52b4af87bcf3"
      },
      "source": [
        "#Nova Coluna com os dados tratados\n",
        "\n",
        "df['preprocessed'] = newTweetsList\n",
        "df"
      ],
      "execution_count": null,
      "outputs": [
        {
          "output_type": "execute_result",
          "data": {
            "text/html": [
              "<div>\n",
              "<style scoped>\n",
              "    .dataframe tbody tr th:only-of-type {\n",
              "        vertical-align: middle;\n",
              "    }\n",
              "\n",
              "    .dataframe tbody tr th {\n",
              "        vertical-align: top;\n",
              "    }\n",
              "\n",
              "    .dataframe thead th {\n",
              "        text-align: right;\n",
              "    }\n",
              "</style>\n",
              "<table border=\"1\" class=\"dataframe\">\n",
              "  <thead>\n",
              "    <tr style=\"text-align: right;\">\n",
              "      <th></th>\n",
              "      <th>tweet</th>\n",
              "      <th>preprocessed</th>\n",
              "    </tr>\n",
              "  </thead>\n",
              "  <tbody>\n",
              "    <tr>\n",
              "      <th>0</th>\n",
              "      <td>iPhone 13 Pro has incredible battery, lasting ...</td>\n",
              "      <td>iphone 13 pro has incredible battery, lasting ...</td>\n",
              "    </tr>\n",
              "    <tr>\n",
              "      <th>1</th>\n",
              "      <td>Iphone 13 battery is so good bruh</td>\n",
              "      <td>iphone 13 battery is so good bruh</td>\n",
              "    </tr>\n",
              "    <tr>\n",
              "      <th>2</th>\n",
              "      <td>The iPhone 13 camera is wonderful</td>\n",
              "      <td>the iphone 13 camera is wonderful</td>\n",
              "    </tr>\n",
              "    <tr>\n",
              "      <th>3</th>\n",
              "      <td>The iphone 13 battery life is really good yo.</td>\n",
              "      <td>the iphone 13 battery life is really good yo</td>\n",
              "    </tr>\n",
              "    <tr>\n",
              "      <th>4</th>\n",
              "      <td>The #iphone 13 pro has officially the worst de...</td>\n",
              "      <td>the iphone 13 pro has officially the worst des...</td>\n",
              "    </tr>\n",
              "    <tr>\n",
              "      <th>5</th>\n",
              "      <td>@BiteSizeRi No, what you need is the samsung g...</td>\n",
              "      <td>no, what you need is the samsung galaxy s21 ul...</td>\n",
              "    </tr>\n",
              "    <tr>\n",
              "      <th>6</th>\n",
              "      <td>@KellieADennis74 I got my new Galaxy S21 a few...</td>\n",
              "      <td>i got my new galaxy s21 a few weeks ago its th...</td>\n",
              "    </tr>\n",
              "    <tr>\n",
              "      <th>7</th>\n",
              "      <td>@EzTech231 The Samsung Galaxy S21 Ultra is my ...</td>\n",
              "      <td>the samsung galaxy s21 ultra is my favorite ph...</td>\n",
              "    </tr>\n",
              "    <tr>\n",
              "      <th>8</th>\n",
              "      <td>@ashdogx I have the Galaxy S21 Ultra and this ...</td>\n",
              "      <td>i have the galaxy s21 ultra and this phone is ...</td>\n",
              "    </tr>\n",
              "  </tbody>\n",
              "</table>\n",
              "</div>"
            ],
            "text/plain": [
              "                                               tweet                                       preprocessed\n",
              "0  iPhone 13 Pro has incredible battery, lasting ...  iphone 13 pro has incredible battery, lasting ...\n",
              "1                  Iphone 13 battery is so good bruh                  iphone 13 battery is so good bruh\n",
              "2                  The iPhone 13 camera is wonderful                  the iphone 13 camera is wonderful\n",
              "3      The iphone 13 battery life is really good yo.       the iphone 13 battery life is really good yo\n",
              "4  The #iphone 13 pro has officially the worst de...  the iphone 13 pro has officially the worst des...\n",
              "5  @BiteSizeRi No, what you need is the samsung g...  no, what you need is the samsung galaxy s21 ul...\n",
              "6  @KellieADennis74 I got my new Galaxy S21 a few...  i got my new galaxy s21 a few weeks ago its th...\n",
              "7  @EzTech231 The Samsung Galaxy S21 Ultra is my ...  the samsung galaxy s21 ultra is my favorite ph...\n",
              "8  @ashdogx I have the Galaxy S21 Ultra and this ...  i have the galaxy s21 ultra and this phone is ..."
            ]
          },
          "metadata": {},
          "execution_count": 99
        }
      ]
    },
    {
      "cell_type": "code",
      "metadata": {
        "colab": {
          "base_uri": "https://localhost:8080/",
          "height": 493
        },
        "id": "Xb3sucK-I4vH",
        "outputId": "3d5f2cae-2ab4-40c4-a41c-3d3a8df01c2b"
      },
      "source": [
        "dfCompilado.drop_duplicates(subset=['tweet'])"
      ],
      "execution_count": null,
      "outputs": [
        {
          "output_type": "execute_result",
          "data": {
            "text/html": [
              "<div>\n",
              "<style scoped>\n",
              "    .dataframe tbody tr th:only-of-type {\n",
              "        vertical-align: middle;\n",
              "    }\n",
              "\n",
              "    .dataframe tbody tr th {\n",
              "        vertical-align: top;\n",
              "    }\n",
              "\n",
              "    .dataframe thead th {\n",
              "        text-align: right;\n",
              "    }\n",
              "</style>\n",
              "<table border=\"1\" class=\"dataframe\">\n",
              "  <thead>\n",
              "    <tr style=\"text-align: right;\">\n",
              "      <th></th>\n",
              "      <th>created_at</th>\n",
              "      <th>User_id</th>\n",
              "      <th>tweet</th>\n",
              "      <th>preprocessed</th>\n",
              "    </tr>\n",
              "  </thead>\n",
              "  <tbody>\n",
              "    <tr>\n",
              "      <th>0</th>\n",
              "      <td>Mon Oct 25 18:03:17 +0000 2021</td>\n",
              "      <td>1452697285310230540</td>\n",
              "      <td>@khi_daking4 @a_for_albert @realutsavdoshi My ...</td>\n",
              "      <td>my problems with the devices\\ns21 horrible bat...</td>\n",
              "    </tr>\n",
              "    <tr>\n",
              "      <th>1</th>\n",
              "      <td>Mon Oct 25 14:42:49 +0000 2021</td>\n",
              "      <td>1452646838922776587</td>\n",
              "      <td>Samsung Galaxy S21 Ultra Power Bank Case https...</td>\n",
              "      <td>samsung galaxy s21 ultra power bank case samsu...</td>\n",
              "    </tr>\n",
              "    <tr>\n",
              "      <th>2</th>\n",
              "      <td>Mon Oct 25 12:16:32 +0000 2021</td>\n",
              "      <td>1452610025667563525</td>\n",
              "      <td>The September Security Patch for the Samsung G...</td>\n",
              "      <td>the september security patch for the samsung g...</td>\n",
              "    </tr>\n",
              "    <tr>\n",
              "      <th>3</th>\n",
              "      <td>Mon Oct 25 07:29:59 +0000 2021</td>\n",
              "      <td>1452537911455338497</td>\n",
              "      <td>Galaxy S21 battery replacement | S21 Plus | Ge...</td>\n",
              "      <td>galaxy s21 battery replacement | s21 plus | ge...</td>\n",
              "    </tr>\n",
              "    <tr>\n",
              "      <th>4</th>\n",
              "      <td>Sun Oct 24 18:02:38 +0000 2021</td>\n",
              "      <td>1452334733036343306</td>\n",
              "      <td>With a sleek new design, hyperfast processing ...</td>\n",
              "      <td>with a sleek new design, hyperfast processing ...</td>\n",
              "    </tr>\n",
              "    <tr>\n",
              "      <th>...</th>\n",
              "      <td>...</td>\n",
              "      <td>...</td>\n",
              "      <td>...</td>\n",
              "      <td>...</td>\n",
              "    </tr>\n",
              "    <tr>\n",
              "      <th>7459</th>\n",
              "      <td>2021-11-13 11:17:13+00:00</td>\n",
              "      <td>1459480464637399040</td>\n",
              "      <td>Sell/buy/repair Samsung smartphones best price...</td>\n",
              "      <td>sell/buy/repair samsung smartphones best price...</td>\n",
              "    </tr>\n",
              "    <tr>\n",
              "      <th>7460</th>\n",
              "      <td>2021-11-13 08:42:52+00:00</td>\n",
              "      <td>1459441622890913792</td>\n",
              "      <td>Sell/buy/repair Samsung smartphones best price...</td>\n",
              "      <td>sell/buy/repair samsung smartphones best price...</td>\n",
              "    </tr>\n",
              "    <tr>\n",
              "      <th>7461</th>\n",
              "      <td>2021-11-13 08:42:37+00:00</td>\n",
              "      <td>1459441559628173312</td>\n",
              "      <td>Sell/buy/repair Samsung smartphones best price...</td>\n",
              "      <td>sell/buy/repair samsung smartphones best price...</td>\n",
              "    </tr>\n",
              "    <tr>\n",
              "      <th>7462</th>\n",
              "      <td>2021-11-13 04:07:58+00:00</td>\n",
              "      <td>1459372439763243008</td>\n",
              "      <td>Sell/buy/repair Samsung smartphones best price...</td>\n",
              "      <td>sell/buy/repair samsung smartphones best price...</td>\n",
              "    </tr>\n",
              "    <tr>\n",
              "      <th>7463</th>\n",
              "      <td>2021-11-13 03:45:06+00:00</td>\n",
              "      <td>1459366687799590912</td>\n",
              "      <td>Sell/buy/repair Samsung smartphones best price...</td>\n",
              "      <td>sell/buy/repair samsung smartphones best price...</td>\n",
              "    </tr>\n",
              "  </tbody>\n",
              "</table>\n",
              "<p>6784 rows × 4 columns</p>\n",
              "</div>"
            ],
            "text/plain": [
              "                          created_at  ...                                       preprocessed\n",
              "0     Mon Oct 25 18:03:17 +0000 2021  ...  my problems with the devices\\ns21 horrible bat...\n",
              "1     Mon Oct 25 14:42:49 +0000 2021  ...  samsung galaxy s21 ultra power bank case samsu...\n",
              "2     Mon Oct 25 12:16:32 +0000 2021  ...  the september security patch for the samsung g...\n",
              "3     Mon Oct 25 07:29:59 +0000 2021  ...  galaxy s21 battery replacement | s21 plus | ge...\n",
              "4     Sun Oct 24 18:02:38 +0000 2021  ...  with a sleek new design, hyperfast processing ...\n",
              "...                              ...  ...                                                ...\n",
              "7459       2021-11-13 11:17:13+00:00  ...  sell/buy/repair samsung smartphones best price...\n",
              "7460       2021-11-13 08:42:52+00:00  ...  sell/buy/repair samsung smartphones best price...\n",
              "7461       2021-11-13 08:42:37+00:00  ...  sell/buy/repair samsung smartphones best price...\n",
              "7462       2021-11-13 04:07:58+00:00  ...  sell/buy/repair samsung smartphones best price...\n",
              "7463       2021-11-13 03:45:06+00:00  ...  sell/buy/repair samsung smartphones best price...\n",
              "\n",
              "[6784 rows x 4 columns]"
            ]
          },
          "metadata": {},
          "execution_count": 248
        }
      ]
    },
    {
      "cell_type": "markdown",
      "metadata": {
        "id": "R53XDbzyiwYo"
      },
      "source": [
        "# Extração de Aspectos"
      ]
    },
    {
      "cell_type": "code",
      "metadata": {
        "id": "WueoHTc7iqFa"
      },
      "source": [
        "import spacy\n",
        "nlp = spacy.load(\"en_core_web_sm\")\n",
        "%reload_ext autoreload\n",
        "%autoreload 2\n",
        "%matplotlib inline\n",
        "import os\n",
        "os.environ[\"CUDA_DEVICE_ORDER\"]=\"PCI_BUS_ID\";\n",
        "os.environ[\"CUDA_VISIBLE_DEVICES\"]=\"0\";"
      ],
      "execution_count": null,
      "outputs": []
    },
    {
      "cell_type": "code",
      "metadata": {
        "colab": {
          "base_uri": "https://localhost:8080/"
        },
        "id": "6nIf5ZrwizoU",
        "outputId": "7047e29c-37b3-4d63-f8f5-840aa8267df5"
      },
      "source": [
        "!pip install nltk\n",
        "!pip install stanfordnlp\n",
        "!pip install stanza"
      ],
      "execution_count": null,
      "outputs": [
        {
          "output_type": "stream",
          "name": "stdout",
          "text": [
            "Requirement already satisfied: nltk in /usr/local/lib/python3.7/dist-packages (3.2.5)\n",
            "Requirement already satisfied: six in /usr/local/lib/python3.7/dist-packages (from nltk) (1.15.0)\n",
            "Requirement already satisfied: stanfordnlp in /usr/local/lib/python3.7/dist-packages (0.2.0)\n",
            "Requirement already satisfied: torch>=1.0.0 in /usr/local/lib/python3.7/dist-packages (from stanfordnlp) (1.10.0+cu111)\n",
            "Requirement already satisfied: tqdm in /usr/local/lib/python3.7/dist-packages (from stanfordnlp) (4.62.3)\n",
            "Requirement already satisfied: requests in /usr/local/lib/python3.7/dist-packages (from stanfordnlp) (2.23.0)\n",
            "Requirement already satisfied: numpy in /usr/local/lib/python3.7/dist-packages (from stanfordnlp) (1.19.5)\n",
            "Requirement already satisfied: protobuf in /usr/local/lib/python3.7/dist-packages (from stanfordnlp) (3.17.3)\n",
            "Requirement already satisfied: typing-extensions in /usr/local/lib/python3.7/dist-packages (from torch>=1.0.0->stanfordnlp) (3.10.0.2)\n",
            "Requirement already satisfied: six>=1.9 in /usr/local/lib/python3.7/dist-packages (from protobuf->stanfordnlp) (1.15.0)\n",
            "Requirement already satisfied: certifi>=2017.4.17 in /usr/local/lib/python3.7/dist-packages (from requests->stanfordnlp) (2021.10.8)\n",
            "Requirement already satisfied: chardet<4,>=3.0.2 in /usr/local/lib/python3.7/dist-packages (from requests->stanfordnlp) (3.0.4)\n",
            "Requirement already satisfied: urllib3!=1.25.0,!=1.25.1,<1.26,>=1.21.1 in /usr/local/lib/python3.7/dist-packages (from requests->stanfordnlp) (1.24.3)\n",
            "Requirement already satisfied: idna<3,>=2.5 in /usr/local/lib/python3.7/dist-packages (from requests->stanfordnlp) (2.10)\n",
            "Requirement already satisfied: stanza in /usr/local/lib/python3.7/dist-packages (1.3.0)\n",
            "Requirement already satisfied: numpy in /usr/local/lib/python3.7/dist-packages (from stanza) (1.19.5)\n",
            "Requirement already satisfied: protobuf in /usr/local/lib/python3.7/dist-packages (from stanza) (3.17.3)\n",
            "Requirement already satisfied: torch>=1.3.0 in /usr/local/lib/python3.7/dist-packages (from stanza) (1.10.0+cu111)\n",
            "Requirement already satisfied: tqdm in /usr/local/lib/python3.7/dist-packages (from stanza) (4.62.3)\n",
            "Requirement already satisfied: requests in /usr/local/lib/python3.7/dist-packages (from stanza) (2.23.0)\n",
            "Requirement already satisfied: emoji in /usr/local/lib/python3.7/dist-packages (from stanza) (1.6.1)\n",
            "Requirement already satisfied: six in /usr/local/lib/python3.7/dist-packages (from stanza) (1.15.0)\n",
            "Requirement already satisfied: typing-extensions in /usr/local/lib/python3.7/dist-packages (from torch>=1.3.0->stanza) (3.10.0.2)\n",
            "Requirement already satisfied: chardet<4,>=3.0.2 in /usr/local/lib/python3.7/dist-packages (from requests->stanza) (3.0.4)\n",
            "Requirement already satisfied: urllib3!=1.25.0,!=1.25.1,<1.26,>=1.21.1 in /usr/local/lib/python3.7/dist-packages (from requests->stanza) (1.24.3)\n",
            "Requirement already satisfied: idna<3,>=2.5 in /usr/local/lib/python3.7/dist-packages (from requests->stanza) (2.10)\n",
            "Requirement already satisfied: certifi>=2017.4.17 in /usr/local/lib/python3.7/dist-packages (from requests->stanza) (2021.10.8)\n"
          ]
        }
      ]
    },
    {
      "cell_type": "code",
      "metadata": {
        "colab": {
          "base_uri": "https://localhost:8080/",
          "height": 552,
          "referenced_widgets": [
            "8a89f22f30fd40e89b8aee4c4c8e5fe7",
            "d1016358330e4f79aa1e1cb711e05938",
            "d0baf26dce444ea8a908700b3c79a8fc",
            "0833039b21874cab866bc8599bbb2ecb",
            "7bd468632cfb4f94a1c0dcd34123829a",
            "ca1c45ce13d243f4b569b03fdb28f982",
            "2a7b540ebe58417798bb82ad82f3c22b",
            "783d8fd6e9994eb593bfaad12c6d092a",
            "331525a4deed4f3589ca807718279456",
            "43766eead6974fe78b315a05e435e42e",
            "c9b8cadd801641ab99b200997c9fc60c"
          ]
        },
        "id": "wTRaWP-TjIj5",
        "outputId": "e144a7db-f5bb-4f90-f811-30bec5ac9cc0"
      },
      "source": [
        "import stanfordnlp\n",
        "import stanza\n",
        "import nltk\n",
        "import pandas as pd\n",
        "from nltk.corpus import stopwords\n",
        "from nltk.corpus import wordnet\n",
        "from nltk.tokenize import word_tokenize, sent_tokenize\n",
        "from nltk.stem.wordnet import WordNetLemmatizer \n",
        "nltk.download('punkt')\n",
        "nltk.download('averaged_perceptron_tagger')\n",
        "nltk.download('stopwords')\n",
        "stanfordnlp.download('en')\n",
        "stanza.download('en') # download English model\n",
        "nltk.download('tagsets')"
      ],
      "execution_count": null,
      "outputs": [
        {
          "output_type": "stream",
          "name": "stdout",
          "text": [
            "[nltk_data] Downloading package punkt to /root/nltk_data...\n",
            "[nltk_data]   Package punkt is already up-to-date!\n",
            "[nltk_data] Downloading package averaged_perceptron_tagger to\n",
            "[nltk_data]     /root/nltk_data...\n",
            "[nltk_data]   Package averaged_perceptron_tagger is already up-to-\n",
            "[nltk_data]       date!\n",
            "[nltk_data] Downloading package stopwords to /root/nltk_data...\n",
            "[nltk_data]   Package stopwords is already up-to-date!\n",
            "Using the default treebank \"en_ewt\" for language \"en\".\n",
            "Would you like to download the models for: en_ewt now? (Y/n)\n",
            "y\n",
            "\n",
            "Default download directory: /root/stanfordnlp_resources\n",
            "Hit enter to continue or type an alternate directory.\n",
            "\n",
            "\n",
            "Downloading models for: en_ewt\n",
            "Download location: /root/stanfordnlp_resources/en_ewt_models.zip\n"
          ]
        },
        {
          "output_type": "stream",
          "name": "stderr",
          "text": [
            "100%|██████████| 235M/235M [00:41<00:00, 5.63MB/s]\n"
          ]
        },
        {
          "output_type": "stream",
          "name": "stdout",
          "text": [
            "\n",
            "Download complete.  Models saved to: /root/stanfordnlp_resources/en_ewt_models.zip\n",
            "Extracting models file for: en_ewt\n",
            "Cleaning up...Done.\n"
          ]
        },
        {
          "output_type": "display_data",
          "data": {
            "application/vnd.jupyter.widget-view+json": {
              "model_id": "8a89f22f30fd40e89b8aee4c4c8e5fe7",
              "version_minor": 0,
              "version_major": 2
            },
            "text/plain": [
              "Downloading https://raw.githubusercontent.com/stanfordnlp/stanza-resources/main/resources_1.3.0.json:   0%|   …"
            ]
          },
          "metadata": {}
        },
        {
          "output_type": "stream",
          "name": "stderr",
          "text": [
            "2021-11-22 07:03:50 INFO: Downloading default packages for language: en (English)...\n",
            "2021-11-22 07:03:51 INFO: File exists: /root/stanza_resources/en/default.zip.\n",
            "2021-11-22 07:03:57 INFO: Finished downloading models and saved to /root/stanza_resources.\n"
          ]
        },
        {
          "output_type": "stream",
          "name": "stdout",
          "text": [
            "[nltk_data] Downloading package tagsets to /root/nltk_data...\n",
            "[nltk_data]   Package tagsets is already up-to-date!\n"
          ]
        },
        {
          "output_type": "execute_result",
          "data": {
            "text/plain": [
              "True"
            ]
          },
          "metadata": {},
          "execution_count": 100
        }
      ]
    },
    {
      "cell_type": "code",
      "metadata": {
        "id": "r5Y_-InqjS-M"
      },
      "source": [
        "sentences = [\n",
        "    'iPhone 13 Pro has incredible battery, lasting around 24 hours with 6 hours of screen on time. Just too good!',\n",
        "    'Iphone 13 battery is so good bruh',\n",
        "    'The iPhone 13 camera is wonderful',\n",
        "    'The iphone 13 battery life is really good yo.',\n",
        "    'The #iphone 13 pro has officially the worst design in terms of comfort in hand. Extremely inconvenient and causes joint pain #iPhone13Pro',\n",
        "    '@BiteSizeRi No, what you need is the samsung galaxy s21 ultra.. that muthafucka got best camera not cap!',\n",
        "    '@JM_Sparkle galaxy s21 series! it has very good battery life and all around excellent specs',\n",
        "    '@KellieADennis74 I got my new Galaxy S21 a few weeks ago. Its the prettiest phone I have ever had.',\n",
        "    '@EzTech231 The Samsung Galaxy S21 Ultra is my favorite phone. Screens great and performance is great',\n",
        "    '@ashdogx I have the Galaxy S21 Ultra and this phone is pretty darn big. Camera is great battery life is fantastic',\n",
        "\n",
        "  # 'The food we had yesterday was delicious, but the staff was rude',\n",
        "  # 'My time in Italy was very enjoyable',\n",
        "  # 'I found the meal to be tasty',\n",
        "  # 'The internet was slow.',\n",
        "  # 'The Sound Quality is great but the battery life is very bad.',\n",
        "  # 'The hotel structure is great, but the staff was very rude.',\n",
        "  # 'Our experience was terrible',\n",
        "  # 'The battery has not a good performance, camera is amazing though',\n",
        "  # 'The camera and resolution are perfect.'\n",
        "  # 'the most impressive features of the apple iphone 13 is the extended battery life',\n",
        "  # 'no question, quality control is a disaster',\n",
        "  # 'launched the new with a few new changes and a muchimproved battery life',\n",
        "  # 'the camera is awesome',\n",
        "  # 'this camera is insane',\n",
        "  # 'definitely got the beat for me this fucking camera!',\n",
        "  # 'i love this iphone13, the camera is so bomb',\n",
        "  # 'the quality of this camera is breathtaking',\n",
        "  # 'the camera is pretty ok',\n",
        "  # 'iphone 14 pro the best camera in an iphone and than ever',\n",
        "  # 'this camera is amazing i got right up to the window he looks huge'\n",
        "]\n"
      ],
      "execution_count": null,
      "outputs": []
    },
    {
      "cell_type": "code",
      "metadata": {
        "colab": {
          "base_uri": "https://localhost:8080/"
        },
        "id": "gGGTmWaIlMvO",
        "outputId": "af8815bc-1644-47e5-cd47-803e3c9b4ef2"
      },
      "source": [
        "listaFrases = []\n",
        "#for i in sentences:\n",
        "for i in newTweetsList:\n",
        "  frase = i.lower()\n",
        "  listaFrases.append(nltk.sent_tokenize(frase))\n",
        "print(listaFrases)"
      ],
      "execution_count": null,
      "outputs": [
        {
          "output_type": "stream",
          "name": "stdout",
          "text": [
            "[['iphone 13 pro has incredible battery, lasting around 24 hours with 6 hours of screen on time just too good!'], ['iphone 13 battery is so good bruh'], ['the iphone 13 camera is wonderful'], ['the iphone 13 battery life is really good yo'], ['the iphone 13 pro has officially the worst design in terms of comfort in hand extremely inconvenient and causes joint pain iphone13pro'], ['no, what you need is the samsung galaxy s21 ultra that muthafucka got best camera not cap!'], ['i got my new galaxy s21 a few weeks ago its the prettiest phone i have ever had'], ['the samsung galaxy s21 ultra is my favorite phone screens great and performance is great'], ['i have the galaxy s21 ultra and this phone is pretty darn big the camera is great and the battery life is fantastic']]\n"
          ]
        }
      ]
    },
    {
      "cell_type": "code",
      "metadata": {
        "id": "WcJKCqWkmkXj"
      },
      "source": [
        "taggedList = []\n",
        "for i in listaFrases:\n",
        "  listaTemporaria = []\n",
        "  for frase in i:\n",
        "      txt_list = nltk.word_tokenize(frase)\n",
        "      listaTemporaria.append(nltk.pos_tag(txt_list))\n",
        "      taggedList.append(listaTemporaria)\n"
      ],
      "execution_count": null,
      "outputs": []
    },
    {
      "cell_type": "code",
      "metadata": {
        "colab": {
          "base_uri": "https://localhost:8080/"
        },
        "id": "EkaYSuXINmfm",
        "outputId": "a58609c0-1d8b-4d33-816b-ce87911120f8"
      },
      "source": [
        "print(taggedList[8])"
      ],
      "execution_count": null,
      "outputs": [
        {
          "output_type": "stream",
          "name": "stdout",
          "text": [
            "[[('i', 'NNS'), ('have', 'VBP'), ('the', 'DT'), ('galaxy', 'NN'), ('s21', 'NN'), ('ultra', 'JJ'), ('and', 'CC'), ('this', 'DT'), ('phone', 'NN'), ('is', 'VBZ'), ('pretty', 'RB'), ('darn', 'JJ'), ('big', 'JJ'), ('the', 'DT'), ('camera', 'NN'), ('is', 'VBZ'), ('great', 'JJ'), ('and', 'CC'), ('the', 'DT'), ('battery', 'NN'), ('life', 'NN'), ('is', 'VBZ'), ('fantastic', 'JJ')]]\n"
          ]
        }
      ]
    },
    {
      "cell_type": "code",
      "metadata": {
        "id": "0bvG3cGxpIZE"
      },
      "source": [
        "compiladoFrases = []\n",
        "for i in taggedList:\n",
        "  newwordList = []\n",
        "  flag = 0\n",
        "  listaSimples = i[0]\n",
        "  for i in range(0,len(listaSimples)-1):\n",
        "    if(listaSimples[i][1]==\"NN\" and listaSimples[i+1][1]==\"NN\"):\n",
        "        newwordList.append(listaSimples[i][0]+listaSimples[i+1][0])\n",
        "        flag=1\n",
        "    else:\n",
        "        if(flag==1):\n",
        "            flag=0\n",
        "            continue\n",
        "        newwordList.append(listaSimples[i][0])\n",
        "        if(i==len(listaSimples)-2):\n",
        "            newwordList.append(listaSimples[i+1][0])\n",
        "  finaltxt = ' '.join(word for word in newwordList)\n",
        "  compiladoFrases.append(finaltxt)"
      ],
      "execution_count": null,
      "outputs": []
    },
    {
      "cell_type": "code",
      "metadata": {
        "colab": {
          "base_uri": "https://localhost:8080/"
        },
        "id": "p6NL2wWw5vfn",
        "outputId": "123e622f-d0b3-469c-d6ae-5492ca6d2741"
      },
      "source": [
        "print(compiladoFrases[4])"
      ],
      "execution_count": null,
      "outputs": [
        {
          "output_type": "stream",
          "name": "stdout",
          "text": [
            "the iphone 13 pro has officially the worst design in terms of comfort in hand extremely inconvenient and causes joint painiphone13pro\n"
          ]
        }
      ]
    },
    {
      "cell_type": "code",
      "metadata": {
        "id": "2AoTTnehuSxI"
      },
      "source": [
        "new_txt_list_final = []\n",
        "listaSemStopWords = []\n",
        "listaSemStopWordsTagged = []\n",
        "for i in compiladoFrases:\n",
        "  stop_words = set(stopwords.words('english'))\n",
        "  new_txt_list = nltk.word_tokenize(i)\n",
        "  wordsList = [w for w in new_txt_list if not w in stop_words]\n",
        "  new_txt_list_final.append( new_txt_list)\n",
        "  listaSemStopWords.append(wordsList)\n",
        "  listaSemStopWordsTagged.append(nltk.pos_tag(wordsList))\n",
        "# print(new_txt_list_final[6])\n",
        "# print(listaSemStopWords[6])\n",
        "# print(listaSemStopWordsTagged[6])"
      ],
      "execution_count": null,
      "outputs": []
    },
    {
      "cell_type": "code",
      "metadata": {
        "id": "U7R61D_wxDxS"
      },
      "source": [
        "# nlp = stanza.Pipeline('en') # initialize English neural pipeline\n",
        "# count = 0\n",
        "# listaDep_node = []\n",
        "# for i in compiladoFrases:\n",
        "#   print(i)\n",
        "#   doc = nlp(i)\n",
        "#   dep_node = []\n",
        "#   for dep_edge in doc.sentences[0].dependencies:\n",
        "#       dep_node.append([dep_edge[2].text, dep_edge[0].id, dep_edge[1]])\n",
        "#   newwordList = new_txt_list_final[count]\n",
        "#   count = count + 1\n",
        "#   for i in range(0, len(dep_node)):\n",
        "#     if (int(dep_node[i][1]) != 0):\n",
        "#       print(dep_node[i][1])\n",
        "#       print(newwordList[(int(dep_node[i][1]) - 1)])\n",
        "#       dep_node[i][1] = newwordList[(int(dep_node[i][1]) - 1)]\n",
        "#   listaDep_node.append(dep_node)\n",
        "# print(listaDep_node)"
      ],
      "execution_count": null,
      "outputs": []
    },
    {
      "cell_type": "code",
      "metadata": {
        "colab": {
          "base_uri": "https://localhost:8080/"
        },
        "id": "h5O71-0eBoK8",
        "outputId": "3a775331-f4d0-4d50-bc04-a2295bd61d8b"
      },
      "source": [
        "nlp = stanza.Pipeline('en') # initialize English neural pipeline\n",
        "count = 0\n",
        "listaDep_node = []\n",
        "for i in compiladoFrases:\n",
        "  try:\n",
        "    # print(i)\n",
        "    doc = nlp(i)\n",
        "    dep_node = []\n",
        "    for dep_edge in doc.sentences[0].dependencies:\n",
        "        dep_node.append([dep_edge[2].text, dep_edge[0].id, dep_edge[1]])\n",
        "    newwordList = new_txt_list_final[count]\n",
        "    count = count + 1\n",
        "  except:\n",
        "    print(f'essa frase foi descartada {i}')\n",
        "    count = count + 1\n",
        "  for i in range(0, len(dep_node)):\n",
        "    try:\n",
        "      if (int(dep_node[i][1]) != 0):\n",
        "        dep_node[i][1] = newwordList[(int(dep_node[i][1]) - 1)]\n",
        "    except:\n",
        "        print(f'essa frase foi descartada {count}') \n",
        "  listaDep_node.append(dep_node)\n",
        "print(listaDep_node)"
      ],
      "execution_count": null,
      "outputs": [
        {
          "output_type": "stream",
          "name": "stderr",
          "text": [
            "2021-11-22 07:04:24 INFO: Loading these models for language: en (English):\n",
            "============================\n",
            "| Processor    | Package   |\n",
            "----------------------------\n",
            "| tokenize     | combined  |\n",
            "| pos          | combined  |\n",
            "| lemma        | combined  |\n",
            "| depparse     | combined  |\n",
            "| sentiment    | sstplus   |\n",
            "| constituency | wsj       |\n",
            "| ner          | ontonotes |\n",
            "============================\n",
            "\n",
            "2021-11-22 07:04:24 INFO: Use device: cpu\n",
            "2021-11-22 07:04:24 INFO: Loading: tokenize\n",
            "2021-11-22 07:04:25 INFO: Loading: pos\n",
            "2021-11-22 07:04:25 INFO: Loading: lemma\n",
            "2021-11-22 07:04:25 INFO: Loading: depparse\n",
            "2021-11-22 07:04:25 INFO: Loading: sentiment\n",
            "2021-11-22 07:04:26 INFO: Loading: constituency\n",
            "2021-11-22 07:04:27 INFO: Loading: ner\n",
            "2021-11-22 07:04:27 INFO: Done loading processors!\n"
          ]
        },
        {
          "output_type": "stream",
          "name": "stdout",
          "text": [
            "[[['iphone', 'pro', 'compound'], ['13', 'iphone', 'nummod'], ['pro', 'has', 'nsubj'], ['has', 0, 'root'], ['incredible', 'battery', 'amod'], ['battery', 'has', 'obj'], [',', 'lasting', 'punct'], ['lasting', 'has', 'advcl'], ['around', '24', 'advmod'], ['24', 'hours', 'nummod'], ['hours', 'lasting', 'obj'], ['with', 'hours', 'case'], ['6', 'hours', 'nummod'], ['hours', 'lasting', 'obl'], ['of', 'screen', 'case'], ['screen', 'hours', 'nmod'], ['on', 'time', 'case'], ['time', 'hours', 'nmod'], ['just', 'good', 'advmod'], ['too', 'good', 'advmod'], ['good', 'lasting', 'xcomp'], ['!', 'has', 'punct']], [['iphone', 'battery', 'compound'], ['13', 'iphone', 'nummod'], ['battery', 'good', 'nsubj'], ['is', 'good', 'cop'], ['so', 'good', 'advmod'], ['good', 0, 'root'], ['bruh', 'good', 'punct']], [['the', 'camera', 'det'], ['iphone', 'camera', 'compound'], ['13', 'iphone', 'nummod'], ['camera', 'wonderful', 'nsubj'], ['is', 'wonderful', 'cop'], ['wonderful', 0, 'root']], [['the', 'batterylife', 'det'], ['iphone', 'batterylife', 'compound'], ['13', 'iphone', 'nummod'], ['batterylife', 'good', 'nsubj'], ['is', 'good', 'cop'], ['really', 'good', 'advmod'], ['good', 0, 'root'], ['yo', 'good', 'punct']], [['the', 'pro', 'det'], ['iphone', 'pro', 'compound'], ['13', 'iphone', 'nummod'], ['pro', 'has', 'nsubj'], ['has', 0, 'root'], ['officially', 'has', 'advmod'], ['the', 'design', 'det'], ['worst', 'design', 'amod'], ['design', 'has', 'obj'], ['in', 'terms', 'case'], ['terms', 'design', 'nmod'], ['of', 'comfort', 'case'], ['comfort', 'terms', 'nmod'], ['in', 'hand', 'case'], ['hand', 'terms', 'nmod'], ['extremely', 'inconvenient', 'advmod'], ['inconvenient', 'has', 'xcomp'], ['and', 'causes', 'cc'], ['causes', 'has', 'conj'], ['joint', 'painiphone13pro', 'amod'], ['painiphone13', 'causes', 'obj'], ['pro', 'has', 'punct']], [['no', 'ultra', 'discourse'], [',', 'ultra', 'punct'], ['what', 'ultra', 'nsubj'], ['you', 'need', 'nsubj'], ['need', 'what', 'acl:relcl'], ['is', 'ultra', 'cop'], ['the', 'ultra', 'det'], ['samsunggalaxy', 'ultra', 'compound'], ['galaxys21', 'ultra', 'compound'], ['ultra', 0, 'root'], ['that', 'got', 'mark'], ['muthafucka', 'got', 'nsubj'], ['got', 'ultra', 'acl:relcl'], ['best', 'camera', 'amod'], ['camera', 'got', 'obj'], ['not', 'cap', 'advmod'], ['cap', 'got', 'obj'], ['!', 'ultra', 'punct']], [['i', 'got', 'nsubj'], ['got', 0, 'root'], ['my', 's21', 'nmod:poss'], ['new', 's21', 'amod'], ['galaxy', 's21', 'compound'], ['s21', 'got', 'obj'], ['a', 'weeks', 'det'], ['few', 'weeks', 'amod'], ['weeks', 'ago', 'obl:tmod'], ['ago', 'got', 'advmod'], ['its', 'phonei', 'nmod:poss'], ['the', 'phonei', 'det'], ['prettiest', 'phonei', 'amod'], ['phonei', 'had', 'nsubj'], ['have', 'had', 'aux'], ['ever', 'had', 'advmod'], ['had', 'got', 'parataxis']], [['the', 's21ultra', 'det'], ['samsunggalaxy', 's21ultra', 'compound'], ['galaxys21', 's21ultra', 'compound'], ['s21ultra', 'screens', 'nsubj'], ['is', 'screens', 'cop'], ['my', 'screens', 'nmod:poss'], ['favorite', 'screens', 'amod'], ['phone', 'screens', 'compound'], ['screens', 0, 'root'], ['great', 'screens', 'amod'], ['and', 'great', 'cc'], ['performance', 'great', 'nsubj'], ['is', 'great', 'cop'], ['great', 'screens', 'conj']], [['i', 'have', 'nsubj'], ['have', 0, 'root'], ['the', 'ultra', 'det'], ['galaxys21', 'ultra', 'compound'], ['ultra', 'have', 'obj'], ['and', 'big', 'cc'], ['this', 'phone', 'det'], ['phone', 'big', 'nsubj'], ['is', 'big', 'cop'], ['pretty', 'darn', 'advmod'], ['darn', 'big', 'advmod'], ['big', 'have', 'conj'], ['the', 'camera', 'det'], ['camera', 'great', 'nsubj'], ['is', 'great', 'cop'], ['great', 'big', 'ccomp'], ['and', 'fantastic', 'cc'], ['the', 'batterylife', 'det'], ['batterylife', 'fantastic', 'nsubj'], ['is', 'fantastic', 'cop'], ['fantastic', 'have', 'conj']]]\n"
          ]
        }
      ]
    },
    {
      "cell_type": "code",
      "metadata": {
        "id": "amR6Mg6U-V71"
      },
      "source": [
        "featureList = []\n",
        "totalfeatureList = []\n",
        "categories = []\n",
        "categoriesList = []\n",
        "\n",
        "for frasesTagged in listaSemStopWordsTagged:\n",
        "  featureListTemp = []\n",
        "  totalfeatureListTemp = []\n",
        "  categoriesTemp = []\n",
        "  categoriesListTemp = []\n",
        "  for i in frasesTagged:\n",
        "      if(i[1]=='JJ' or i[1]=='NN' or i[1]=='JJR' or i[1]=='NNS' or i[1]=='RB'):\n",
        "          featureListTemp.append(list(i))\n",
        "          totalfeatureListTemp.append(list(i)) # This list will store all the features for every sentence\n",
        "          categoriesTemp.append(i[0])\n",
        "  featureList.append(featureListTemp)\n",
        "  totalfeatureList.append(totalfeatureListTemp)\n",
        "  categories.append(categoriesTemp)\n",
        "  categoriesList.append(categoriesListTemp)"
      ],
      "execution_count": null,
      "outputs": []
    },
    {
      "cell_type": "code",
      "metadata": {
        "colab": {
          "base_uri": "https://localhost:8080/"
        },
        "id": "Ri_5Ex6oEjat",
        "outputId": "190e7dfe-7a2d-4f09-b69b-ca17614043ff"
      },
      "source": [
        "print(categories[4])\n"
      ],
      "execution_count": null,
      "outputs": [
        {
          "output_type": "stream",
          "name": "stdout",
          "text": [
            "['iphone', 'batterylife', 'really', 'good', 'yo']\n"
          ]
        }
      ]
    },
    {
      "cell_type": "code",
      "metadata": {
        "colab": {
          "base_uri": "https://localhost:8080/"
        },
        "id": "YQq_faPHWC-U",
        "outputId": "876fa8e9-cb08-4dcc-b41a-97c253d465e8"
      },
      "source": [
        "fcluster = []\n",
        "count = 0\n",
        "for frasesTagged in featureList:\n",
        "  fclusterTemp = []\n",
        "  for i in frasesTagged:\n",
        "      filist = []\n",
        "      listaTemp = listaDep_node[count]\n",
        "      for j in listaTemp:\n",
        "          if((j[0]==i[0] or j[1]==i[0]) and (j[2] in [\"nsubj\", \"acl:relcl\", \"obj\", \"dobj\", \"agent\", \"advmod\", \"amod\", \"neg\", \"prep_of\", \"acomp\", \"xcomp\", \"compound\"])):\n",
        "              if(j[0]==i[0]):\n",
        "                  filist.append(j[1])\n",
        "              else:\n",
        "                  filist.append(j[0])\n",
        "      fclusterTemp.append([i[0], filist])\n",
        "  count = count + 1\n",
        "  fcluster.append(fclusterTemp)\n",
        "print(fcluster)"
      ],
      "execution_count": null,
      "outputs": [
        {
          "output_type": "stream",
          "name": "stdout",
          "text": [
            "[[['iphone', ['pro']], ['pro', ['iphone', 'has']], ['incredible', ['battery']], ['battery', ['incredible', 'has']], ['around', ['24']], ['hours', ['lasting']], ['hours', ['lasting']], ['screen', []], ['time', []], ['good', ['just', 'too', 'lasting']]], [['iphone', ['battery']], ['battery', ['iphone', 'good']], ['good', ['battery', 'so']], ['bruh', []]], [['iphone', ['camera']], ['camera', ['iphone', 'wonderful']], ['wonderful', ['camera']]], [['iphone', ['batterylife']], ['batterylife', ['iphone', 'good']], ['really', ['good']], ['good', ['batterylife', 'really']], ['yo', []]], [['iphone', ['pro']], ['pro', ['iphone', 'has']], ['officially', ['has']], ['design', ['worst', 'has']], ['terms', []], ['hand', []], ['extremely', ['inconvenient']], ['inconvenient', ['extremely', 'has']], ['causes', ['painiphone13']], ['joint', ['painiphone13pro']], ['painiphone13pro', ['joint']]], [['samsunggalaxy', ['ultra']], ['galaxys21', ['ultra']], ['ultra', ['what', 'samsunggalaxy', 'galaxys21', 'got']], ['muthafucka', ['got']], ['camera', ['best', 'got']], ['cap', ['not', 'got']]], [['new', ['s21']], ['galaxy', ['s21']], ['s21', ['new', 'galaxy', 'got']], ['weeks', ['few']], ['ago', ['got']], ['phonei', ['prettiest', 'had']], ['ever', ['had']]], [['samsunggalaxy', ['s21ultra']], ['galaxys21', ['s21ultra']], ['s21ultra', ['samsunggalaxy', 'galaxys21', 'screens']], ['favorite', ['screens']], ['phone', ['screens']], ['screens', ['s21ultra', 'favorite', 'phone', 'great']], ['great', ['screens', 'performance']], ['performance', ['great']], ['great', ['screens', 'performance']]], [['galaxys21', ['ultra']], ['ultra', ['galaxys21', 'have']], ['phone', ['big']], ['pretty', ['darn']], ['darn', ['pretty', 'big']], ['big', ['phone', 'darn']], ['camera', ['great']], ['great', ['camera']], ['batterylife', ['fantastic']], ['fantastic', ['batterylife']]]]\n"
          ]
        }
      ]
    },
    {
      "cell_type": "code",
      "metadata": {
        "id": "l5kAwENNZGE4"
      },
      "source": [
        "finalcluster = []\n",
        "ListaDic = []\n",
        "for frasesTagged in featureList:\n",
        "  dic = {}\n",
        "  for i in frasesTagged:\n",
        "      dic[i[0]] = i[1]\n",
        "  ListaDic.append(dic)\n",
        "\n",
        "count = 0\n",
        "for frasesClustered in fcluster:\n",
        "  clusterIntermediario = []\n",
        "  dic = ListaDic[count]\n",
        "  for i in frasesClustered:\n",
        "    if(dic[i[0]]==\"NN\"):\n",
        "        clusterIntermediario.append(i)\n",
        "        # print(clusterIntermediario)\n",
        "  finalcluster.append(clusterIntermediario)\n",
        "  count = count + 1"
      ],
      "execution_count": null,
      "outputs": []
    },
    {
      "cell_type": "code",
      "metadata": {
        "colab": {
          "base_uri": "https://localhost:8080/"
        },
        "id": "3sYIwjHvUjdo",
        "outputId": "821dac72-f262-434c-a625-4eb97341a1fd"
      },
      "source": [
        "print(finalcluster[8])"
      ],
      "execution_count": null,
      "outputs": [
        {
          "output_type": "stream",
          "name": "stdout",
          "text": [
            "[['galaxys21', ['ultra']], ['phone', ['big']], ['camera', ['great']], ['batterylife', ['fantastic']]]\n"
          ]
        }
      ]
    },
    {
      "cell_type": "code",
      "metadata": {
        "colab": {
          "base_uri": "https://localhost:8080/"
        },
        "id": "gAyZ5b88o1RL",
        "outputId": "bef43d6b-23de-4f3d-d77b-77d10de328c8"
      },
      "source": [
        "listaAdjetivos = []\n",
        "for i in finalcluster:\n",
        "  for j in i:\n",
        "    # print(j)\n",
        "    if len(j[1]) > 1:\n",
        "      for num in range (len(j[1])):\n",
        "        # print(j[1])\n",
        "        # print(num)\n",
        "        listaAdjetivos.append(j[1][num])\n",
        "    elif len(j[1]) == 1:\n",
        "      for num in range (len(j[1])):\n",
        "        listaAdjetivos.append(j[1][num])\n",
        "print(listaAdjetivos)\n",
        "\n",
        "listaAspectos = []\n",
        "for i in finalcluster:\n",
        "  for j in i:\n",
        "    if len(j[1]) > 1:\n",
        "      for num in range (len(j[1])):\n",
        "        listaAspectos.append(j[0])\n",
        "    elif len(j[1]) == 1:\n",
        "      for num in range (len(j[1])):\n",
        "        listaAspectos.append(j[0])\n",
        "print(listaAspectos)"
      ],
      "execution_count": null,
      "outputs": [
        {
          "output_type": "stream",
          "name": "stdout",
          "text": [
            "['pro', 'incredible', 'has', 'battery', 'iphone', 'good', 'camera', 'iphone', 'wonderful', 'camera', 'batterylife', 'iphone', 'good', 'pro', 'worst', 'has', 'ultra', 'got', 'best', 'got', 'not', 'got', 'new', 'galaxy', 'got', 'prettiest', 'had', 's21ultra', 's21ultra', 'screens', 'great', 'ultra', 'big', 'great', 'fantastic']\n",
            "['iphone', 'battery', 'battery', 'iphone', 'battery', 'battery', 'iphone', 'camera', 'camera', 'wonderful', 'iphone', 'batterylife', 'batterylife', 'iphone', 'design', 'design', 'galaxys21', 'muthafucka', 'camera', 'camera', 'cap', 'cap', 's21', 's21', 's21', 'phonei', 'phonei', 'samsunggalaxy', 'galaxys21', 'phone', 'performance', 'galaxys21', 'phone', 'camera', 'batterylife']\n"
          ]
        }
      ]
    },
    {
      "cell_type": "code",
      "metadata": {
        "colab": {
          "base_uri": "https://localhost:8080/",
          "height": 1000
        },
        "id": "W3dlx04eobq_",
        "outputId": "a6a3642d-aad6-43fe-fc80-9520d7c6ebfb"
      },
      "source": [
        "dfFinal = pd.DataFrame(listaAspectos, columns = ['Aspectos'])\n",
        "dfFinal['Adjetivos'] = listaAdjetivos\n",
        "dfFinal"
      ],
      "execution_count": null,
      "outputs": [
        {
          "output_type": "execute_result",
          "data": {
            "text/html": [
              "<div>\n",
              "<style scoped>\n",
              "    .dataframe tbody tr th:only-of-type {\n",
              "        vertical-align: middle;\n",
              "    }\n",
              "\n",
              "    .dataframe tbody tr th {\n",
              "        vertical-align: top;\n",
              "    }\n",
              "\n",
              "    .dataframe thead th {\n",
              "        text-align: right;\n",
              "    }\n",
              "</style>\n",
              "<table border=\"1\" class=\"dataframe\">\n",
              "  <thead>\n",
              "    <tr style=\"text-align: right;\">\n",
              "      <th></th>\n",
              "      <th>Aspectos</th>\n",
              "      <th>Adjetivos</th>\n",
              "    </tr>\n",
              "  </thead>\n",
              "  <tbody>\n",
              "    <tr>\n",
              "      <th>0</th>\n",
              "      <td>iphone</td>\n",
              "      <td>pro</td>\n",
              "    </tr>\n",
              "    <tr>\n",
              "      <th>1</th>\n",
              "      <td>battery</td>\n",
              "      <td>incredible</td>\n",
              "    </tr>\n",
              "    <tr>\n",
              "      <th>2</th>\n",
              "      <td>battery</td>\n",
              "      <td>has</td>\n",
              "    </tr>\n",
              "    <tr>\n",
              "      <th>3</th>\n",
              "      <td>iphone</td>\n",
              "      <td>battery</td>\n",
              "    </tr>\n",
              "    <tr>\n",
              "      <th>4</th>\n",
              "      <td>battery</td>\n",
              "      <td>iphone</td>\n",
              "    </tr>\n",
              "    <tr>\n",
              "      <th>5</th>\n",
              "      <td>battery</td>\n",
              "      <td>good</td>\n",
              "    </tr>\n",
              "    <tr>\n",
              "      <th>6</th>\n",
              "      <td>iphone</td>\n",
              "      <td>camera</td>\n",
              "    </tr>\n",
              "    <tr>\n",
              "      <th>7</th>\n",
              "      <td>camera</td>\n",
              "      <td>iphone</td>\n",
              "    </tr>\n",
              "    <tr>\n",
              "      <th>8</th>\n",
              "      <td>camera</td>\n",
              "      <td>wonderful</td>\n",
              "    </tr>\n",
              "    <tr>\n",
              "      <th>9</th>\n",
              "      <td>wonderful</td>\n",
              "      <td>camera</td>\n",
              "    </tr>\n",
              "    <tr>\n",
              "      <th>10</th>\n",
              "      <td>iphone</td>\n",
              "      <td>batterylife</td>\n",
              "    </tr>\n",
              "    <tr>\n",
              "      <th>11</th>\n",
              "      <td>batterylife</td>\n",
              "      <td>iphone</td>\n",
              "    </tr>\n",
              "    <tr>\n",
              "      <th>12</th>\n",
              "      <td>batterylife</td>\n",
              "      <td>good</td>\n",
              "    </tr>\n",
              "    <tr>\n",
              "      <th>13</th>\n",
              "      <td>iphone</td>\n",
              "      <td>pro</td>\n",
              "    </tr>\n",
              "    <tr>\n",
              "      <th>14</th>\n",
              "      <td>design</td>\n",
              "      <td>worst</td>\n",
              "    </tr>\n",
              "    <tr>\n",
              "      <th>15</th>\n",
              "      <td>design</td>\n",
              "      <td>has</td>\n",
              "    </tr>\n",
              "    <tr>\n",
              "      <th>16</th>\n",
              "      <td>galaxys21</td>\n",
              "      <td>ultra</td>\n",
              "    </tr>\n",
              "    <tr>\n",
              "      <th>17</th>\n",
              "      <td>muthafucka</td>\n",
              "      <td>got</td>\n",
              "    </tr>\n",
              "    <tr>\n",
              "      <th>18</th>\n",
              "      <td>camera</td>\n",
              "      <td>best</td>\n",
              "    </tr>\n",
              "    <tr>\n",
              "      <th>19</th>\n",
              "      <td>camera</td>\n",
              "      <td>got</td>\n",
              "    </tr>\n",
              "    <tr>\n",
              "      <th>20</th>\n",
              "      <td>cap</td>\n",
              "      <td>not</td>\n",
              "    </tr>\n",
              "    <tr>\n",
              "      <th>21</th>\n",
              "      <td>cap</td>\n",
              "      <td>got</td>\n",
              "    </tr>\n",
              "    <tr>\n",
              "      <th>22</th>\n",
              "      <td>s21</td>\n",
              "      <td>new</td>\n",
              "    </tr>\n",
              "    <tr>\n",
              "      <th>23</th>\n",
              "      <td>s21</td>\n",
              "      <td>galaxy</td>\n",
              "    </tr>\n",
              "    <tr>\n",
              "      <th>24</th>\n",
              "      <td>s21</td>\n",
              "      <td>got</td>\n",
              "    </tr>\n",
              "    <tr>\n",
              "      <th>25</th>\n",
              "      <td>phonei</td>\n",
              "      <td>prettiest</td>\n",
              "    </tr>\n",
              "    <tr>\n",
              "      <th>26</th>\n",
              "      <td>phonei</td>\n",
              "      <td>had</td>\n",
              "    </tr>\n",
              "    <tr>\n",
              "      <th>27</th>\n",
              "      <td>samsunggalaxy</td>\n",
              "      <td>s21ultra</td>\n",
              "    </tr>\n",
              "    <tr>\n",
              "      <th>28</th>\n",
              "      <td>galaxys21</td>\n",
              "      <td>s21ultra</td>\n",
              "    </tr>\n",
              "    <tr>\n",
              "      <th>29</th>\n",
              "      <td>phone</td>\n",
              "      <td>screens</td>\n",
              "    </tr>\n",
              "    <tr>\n",
              "      <th>30</th>\n",
              "      <td>performance</td>\n",
              "      <td>great</td>\n",
              "    </tr>\n",
              "    <tr>\n",
              "      <th>31</th>\n",
              "      <td>galaxys21</td>\n",
              "      <td>ultra</td>\n",
              "    </tr>\n",
              "    <tr>\n",
              "      <th>32</th>\n",
              "      <td>phone</td>\n",
              "      <td>big</td>\n",
              "    </tr>\n",
              "    <tr>\n",
              "      <th>33</th>\n",
              "      <td>camera</td>\n",
              "      <td>great</td>\n",
              "    </tr>\n",
              "    <tr>\n",
              "      <th>34</th>\n",
              "      <td>batterylife</td>\n",
              "      <td>fantastic</td>\n",
              "    </tr>\n",
              "  </tbody>\n",
              "</table>\n",
              "</div>"
            ],
            "text/plain": [
              "         Aspectos    Adjetivos\n",
              "0          iphone          pro\n",
              "1         battery   incredible\n",
              "2         battery          has\n",
              "3          iphone      battery\n",
              "4         battery       iphone\n",
              "5         battery         good\n",
              "6          iphone       camera\n",
              "7          camera       iphone\n",
              "8          camera    wonderful\n",
              "9       wonderful       camera\n",
              "10         iphone  batterylife\n",
              "11    batterylife       iphone\n",
              "12    batterylife         good\n",
              "13         iphone          pro\n",
              "14         design        worst\n",
              "15         design          has\n",
              "16      galaxys21        ultra\n",
              "17     muthafucka          got\n",
              "18         camera         best\n",
              "19         camera          got\n",
              "20            cap          not\n",
              "21            cap          got\n",
              "22            s21          new\n",
              "23            s21       galaxy\n",
              "24            s21          got\n",
              "25         phonei    prettiest\n",
              "26         phonei          had\n",
              "27  samsunggalaxy     s21ultra\n",
              "28      galaxys21     s21ultra\n",
              "29          phone      screens\n",
              "30    performance        great\n",
              "31      galaxys21        ultra\n",
              "32          phone          big\n",
              "33         camera        great\n",
              "34    batterylife    fantastic"
            ]
          },
          "metadata": {},
          "execution_count": 121
        }
      ]
    },
    {
      "cell_type": "markdown",
      "metadata": {
        "id": "IFvcNopJRApQ"
      },
      "source": [
        "# Analise de Sentimento"
      ]
    },
    {
      "cell_type": "code",
      "metadata": {
        "colab": {
          "base_uri": "https://localhost:8080/"
        },
        "id": "v6cYO4CrRDn7",
        "outputId": "5aa81eed-8c18-4b07-f3bc-e051b1d72645"
      },
      "source": [
        "!pip install TextBlob\n",
        "!pip install wordcloudimport tweepy\n",
        "import textblob  \n",
        "import wordcloud\n",
        "from textblob import TextBlob\n",
        "!pip install -U textblob\n",
        "!python -m textblob.download_corpora\n",
        "nltk.download('movie_reviews')\n",
        "nltk.download('punkt')\n",
        "import numpy as np"
      ],
      "execution_count": null,
      "outputs": [
        {
          "output_type": "stream",
          "name": "stdout",
          "text": [
            "Requirement already satisfied: TextBlob in /usr/local/lib/python3.7/dist-packages (0.17.1)\n",
            "Requirement already satisfied: nltk>=3.1 in /usr/local/lib/python3.7/dist-packages (from TextBlob) (3.2.5)\n",
            "Requirement already satisfied: six in /usr/local/lib/python3.7/dist-packages (from nltk>=3.1->TextBlob) (1.15.0)\n",
            "\u001b[31mERROR: Could not find a version that satisfies the requirement wordcloudimport (from versions: none)\u001b[0m\n",
            "\u001b[31mERROR: No matching distribution found for wordcloudimport\u001b[0m\n",
            "Requirement already satisfied: textblob in /usr/local/lib/python3.7/dist-packages (0.17.1)\n",
            "Requirement already satisfied: nltk>=3.1 in /usr/local/lib/python3.7/dist-packages (from textblob) (3.2.5)\n",
            "Requirement already satisfied: six in /usr/local/lib/python3.7/dist-packages (from nltk>=3.1->textblob) (1.15.0)\n",
            "[nltk_data] Downloading package brown to /root/nltk_data...\n",
            "[nltk_data]   Package brown is already up-to-date!\n",
            "[nltk_data] Downloading package punkt to /root/nltk_data...\n",
            "[nltk_data]   Package punkt is already up-to-date!\n",
            "[nltk_data] Downloading package wordnet to /root/nltk_data...\n",
            "[nltk_data]   Package wordnet is already up-to-date!\n",
            "[nltk_data] Downloading package averaged_perceptron_tagger to\n",
            "[nltk_data]     /root/nltk_data...\n",
            "[nltk_data]   Package averaged_perceptron_tagger is already up-to-\n",
            "[nltk_data]       date!\n",
            "[nltk_data] Downloading package conll2000 to /root/nltk_data...\n",
            "[nltk_data]   Package conll2000 is already up-to-date!\n",
            "[nltk_data] Downloading package movie_reviews to /root/nltk_data...\n",
            "[nltk_data]   Package movie_reviews is already up-to-date!\n",
            "Finished.\n",
            "[nltk_data] Downloading package movie_reviews to /root/nltk_data...\n",
            "[nltk_data]   Package movie_reviews is already up-to-date!\n",
            "[nltk_data] Downloading package punkt to /root/nltk_data...\n",
            "[nltk_data]   Package punkt is already up-to-date!\n"
          ]
        }
      ]
    },
    {
      "cell_type": "code",
      "metadata": {
        "id": "7L5yp5QuSnmF"
      },
      "source": [
        "from textblob import TextBlob\n",
        "from textblob.sentiments import NaiveBayesAnalyzer\n",
        "listaNaive = []\n",
        "# for i in listaAdjetivos:\n",
        "#   blob = TextBlob(i, analyzer=NaiveBayesAnalyzer())\n",
        "#   listaNaive.append(blob.sentiment)\n",
        "# print(listaNaive) "
      ],
      "execution_count": null,
      "outputs": []
    },
    {
      "cell_type": "code",
      "metadata": {
        "id": "ebEv_Z8AKdfo"
      },
      "source": [
        "# listaNaiveClassification = []\n",
        "# listaNaivePos = []\n",
        "# listaNaiveNeg = []\n",
        "# for i in listaNaive:\n",
        "#   listaNaiveClassification.append(i[0])\n",
        "#   listaNaivePos.append(i[1])\n",
        "#   listaNaiveNeg.append(i[2])\n",
        "# print(listaNaiveClassification)\n",
        "#listaNaiveNeg\n",
        "#listaNaivePos"
      ],
      "execution_count": null,
      "outputs": []
    },
    {
      "cell_type": "code",
      "metadata": {
        "colab": {
          "base_uri": "https://localhost:8080/",
          "height": 1000
        },
        "id": "1cRmPItuTQwg",
        "outputId": "cf0c01c4-b990-4b46-fa2b-97781d5bf039"
      },
      "source": [
        "def getSubjectivity(text):\n",
        "  return TextBlob(text).sentiment.subjectivity\n",
        "\n",
        "def getPolarity(text):\n",
        "  return TextBlob(text).sentiment.polarity\n",
        "\n",
        "listaSub = []\n",
        "listaPolaridade = []\n",
        "for i in listaAdjetivos:\n",
        "  try:\n",
        "    listaSub.append(getSubjectivity(i))\n",
        "    listaPolaridade.append(getPolarity(i))\n",
        "  except:\n",
        "    listaSub.append(0.0)\n",
        "    listaPolaridade.append(0.0)\n",
        "dfFinal['Sub'] = listaSub\n",
        "dfFinal['Polaridade'] = listaPolaridade\n",
        "dfFinal"
      ],
      "execution_count": null,
      "outputs": [
        {
          "output_type": "execute_result",
          "data": {
            "text/html": [
              "<div>\n",
              "<style scoped>\n",
              "    .dataframe tbody tr th:only-of-type {\n",
              "        vertical-align: middle;\n",
              "    }\n",
              "\n",
              "    .dataframe tbody tr th {\n",
              "        vertical-align: top;\n",
              "    }\n",
              "\n",
              "    .dataframe thead th {\n",
              "        text-align: right;\n",
              "    }\n",
              "</style>\n",
              "<table border=\"1\" class=\"dataframe\">\n",
              "  <thead>\n",
              "    <tr style=\"text-align: right;\">\n",
              "      <th></th>\n",
              "      <th>Aspectos</th>\n",
              "      <th>Adjetivos</th>\n",
              "      <th>Sub</th>\n",
              "      <th>Polaridade</th>\n",
              "    </tr>\n",
              "  </thead>\n",
              "  <tbody>\n",
              "    <tr>\n",
              "      <th>0</th>\n",
              "      <td>iphone</td>\n",
              "      <td>pro</td>\n",
              "      <td>0.000000</td>\n",
              "      <td>0.000000</td>\n",
              "    </tr>\n",
              "    <tr>\n",
              "      <th>1</th>\n",
              "      <td>battery</td>\n",
              "      <td>incredible</td>\n",
              "      <td>0.900000</td>\n",
              "      <td>0.900000</td>\n",
              "    </tr>\n",
              "    <tr>\n",
              "      <th>2</th>\n",
              "      <td>battery</td>\n",
              "      <td>has</td>\n",
              "      <td>0.000000</td>\n",
              "      <td>0.000000</td>\n",
              "    </tr>\n",
              "    <tr>\n",
              "      <th>3</th>\n",
              "      <td>iphone</td>\n",
              "      <td>battery</td>\n",
              "      <td>0.000000</td>\n",
              "      <td>0.000000</td>\n",
              "    </tr>\n",
              "    <tr>\n",
              "      <th>4</th>\n",
              "      <td>battery</td>\n",
              "      <td>iphone</td>\n",
              "      <td>0.000000</td>\n",
              "      <td>0.000000</td>\n",
              "    </tr>\n",
              "    <tr>\n",
              "      <th>5</th>\n",
              "      <td>battery</td>\n",
              "      <td>good</td>\n",
              "      <td>0.600000</td>\n",
              "      <td>0.700000</td>\n",
              "    </tr>\n",
              "    <tr>\n",
              "      <th>6</th>\n",
              "      <td>iphone</td>\n",
              "      <td>camera</td>\n",
              "      <td>0.000000</td>\n",
              "      <td>0.000000</td>\n",
              "    </tr>\n",
              "    <tr>\n",
              "      <th>7</th>\n",
              "      <td>camera</td>\n",
              "      <td>iphone</td>\n",
              "      <td>0.000000</td>\n",
              "      <td>0.000000</td>\n",
              "    </tr>\n",
              "    <tr>\n",
              "      <th>8</th>\n",
              "      <td>camera</td>\n",
              "      <td>wonderful</td>\n",
              "      <td>1.000000</td>\n",
              "      <td>1.000000</td>\n",
              "    </tr>\n",
              "    <tr>\n",
              "      <th>9</th>\n",
              "      <td>wonderful</td>\n",
              "      <td>camera</td>\n",
              "      <td>0.000000</td>\n",
              "      <td>0.000000</td>\n",
              "    </tr>\n",
              "    <tr>\n",
              "      <th>10</th>\n",
              "      <td>iphone</td>\n",
              "      <td>batterylife</td>\n",
              "      <td>0.000000</td>\n",
              "      <td>0.000000</td>\n",
              "    </tr>\n",
              "    <tr>\n",
              "      <th>11</th>\n",
              "      <td>batterylife</td>\n",
              "      <td>iphone</td>\n",
              "      <td>0.000000</td>\n",
              "      <td>0.000000</td>\n",
              "    </tr>\n",
              "    <tr>\n",
              "      <th>12</th>\n",
              "      <td>batterylife</td>\n",
              "      <td>good</td>\n",
              "      <td>0.600000</td>\n",
              "      <td>0.700000</td>\n",
              "    </tr>\n",
              "    <tr>\n",
              "      <th>13</th>\n",
              "      <td>iphone</td>\n",
              "      <td>pro</td>\n",
              "      <td>0.000000</td>\n",
              "      <td>0.000000</td>\n",
              "    </tr>\n",
              "    <tr>\n",
              "      <th>14</th>\n",
              "      <td>design</td>\n",
              "      <td>worst</td>\n",
              "      <td>1.000000</td>\n",
              "      <td>-1.000000</td>\n",
              "    </tr>\n",
              "    <tr>\n",
              "      <th>15</th>\n",
              "      <td>design</td>\n",
              "      <td>has</td>\n",
              "      <td>0.000000</td>\n",
              "      <td>0.000000</td>\n",
              "    </tr>\n",
              "    <tr>\n",
              "      <th>16</th>\n",
              "      <td>galaxys21</td>\n",
              "      <td>ultra</td>\n",
              "      <td>0.000000</td>\n",
              "      <td>0.000000</td>\n",
              "    </tr>\n",
              "    <tr>\n",
              "      <th>17</th>\n",
              "      <td>muthafucka</td>\n",
              "      <td>got</td>\n",
              "      <td>0.000000</td>\n",
              "      <td>0.000000</td>\n",
              "    </tr>\n",
              "    <tr>\n",
              "      <th>18</th>\n",
              "      <td>camera</td>\n",
              "      <td>best</td>\n",
              "      <td>0.300000</td>\n",
              "      <td>1.000000</td>\n",
              "    </tr>\n",
              "    <tr>\n",
              "      <th>19</th>\n",
              "      <td>camera</td>\n",
              "      <td>got</td>\n",
              "      <td>0.000000</td>\n",
              "      <td>0.000000</td>\n",
              "    </tr>\n",
              "    <tr>\n",
              "      <th>20</th>\n",
              "      <td>cap</td>\n",
              "      <td>not</td>\n",
              "      <td>0.000000</td>\n",
              "      <td>0.000000</td>\n",
              "    </tr>\n",
              "    <tr>\n",
              "      <th>21</th>\n",
              "      <td>cap</td>\n",
              "      <td>got</td>\n",
              "      <td>0.000000</td>\n",
              "      <td>0.000000</td>\n",
              "    </tr>\n",
              "    <tr>\n",
              "      <th>22</th>\n",
              "      <td>s21</td>\n",
              "      <td>new</td>\n",
              "      <td>0.454545</td>\n",
              "      <td>0.136364</td>\n",
              "    </tr>\n",
              "    <tr>\n",
              "      <th>23</th>\n",
              "      <td>s21</td>\n",
              "      <td>galaxy</td>\n",
              "      <td>0.000000</td>\n",
              "      <td>0.000000</td>\n",
              "    </tr>\n",
              "    <tr>\n",
              "      <th>24</th>\n",
              "      <td>s21</td>\n",
              "      <td>got</td>\n",
              "      <td>0.000000</td>\n",
              "      <td>0.000000</td>\n",
              "    </tr>\n",
              "    <tr>\n",
              "      <th>25</th>\n",
              "      <td>phonei</td>\n",
              "      <td>prettiest</td>\n",
              "      <td>0.000000</td>\n",
              "      <td>0.000000</td>\n",
              "    </tr>\n",
              "    <tr>\n",
              "      <th>26</th>\n",
              "      <td>phonei</td>\n",
              "      <td>had</td>\n",
              "      <td>0.000000</td>\n",
              "      <td>0.000000</td>\n",
              "    </tr>\n",
              "    <tr>\n",
              "      <th>27</th>\n",
              "      <td>samsunggalaxy</td>\n",
              "      <td>s21ultra</td>\n",
              "      <td>0.000000</td>\n",
              "      <td>0.000000</td>\n",
              "    </tr>\n",
              "    <tr>\n",
              "      <th>28</th>\n",
              "      <td>galaxys21</td>\n",
              "      <td>s21ultra</td>\n",
              "      <td>0.000000</td>\n",
              "      <td>0.000000</td>\n",
              "    </tr>\n",
              "    <tr>\n",
              "      <th>29</th>\n",
              "      <td>phone</td>\n",
              "      <td>screens</td>\n",
              "      <td>0.000000</td>\n",
              "      <td>0.000000</td>\n",
              "    </tr>\n",
              "    <tr>\n",
              "      <th>30</th>\n",
              "      <td>performance</td>\n",
              "      <td>great</td>\n",
              "      <td>0.750000</td>\n",
              "      <td>0.800000</td>\n",
              "    </tr>\n",
              "    <tr>\n",
              "      <th>31</th>\n",
              "      <td>galaxys21</td>\n",
              "      <td>ultra</td>\n",
              "      <td>0.000000</td>\n",
              "      <td>0.000000</td>\n",
              "    </tr>\n",
              "    <tr>\n",
              "      <th>32</th>\n",
              "      <td>phone</td>\n",
              "      <td>big</td>\n",
              "      <td>0.100000</td>\n",
              "      <td>0.000000</td>\n",
              "    </tr>\n",
              "    <tr>\n",
              "      <th>33</th>\n",
              "      <td>camera</td>\n",
              "      <td>great</td>\n",
              "      <td>0.750000</td>\n",
              "      <td>0.800000</td>\n",
              "    </tr>\n",
              "    <tr>\n",
              "      <th>34</th>\n",
              "      <td>batterylife</td>\n",
              "      <td>fantastic</td>\n",
              "      <td>0.900000</td>\n",
              "      <td>0.400000</td>\n",
              "    </tr>\n",
              "  </tbody>\n",
              "</table>\n",
              "</div>"
            ],
            "text/plain": [
              "         Aspectos    Adjetivos       Sub  Polaridade\n",
              "0          iphone          pro  0.000000    0.000000\n",
              "1         battery   incredible  0.900000    0.900000\n",
              "2         battery          has  0.000000    0.000000\n",
              "3          iphone      battery  0.000000    0.000000\n",
              "4         battery       iphone  0.000000    0.000000\n",
              "5         battery         good  0.600000    0.700000\n",
              "6          iphone       camera  0.000000    0.000000\n",
              "7          camera       iphone  0.000000    0.000000\n",
              "8          camera    wonderful  1.000000    1.000000\n",
              "9       wonderful       camera  0.000000    0.000000\n",
              "10         iphone  batterylife  0.000000    0.000000\n",
              "11    batterylife       iphone  0.000000    0.000000\n",
              "12    batterylife         good  0.600000    0.700000\n",
              "13         iphone          pro  0.000000    0.000000\n",
              "14         design        worst  1.000000   -1.000000\n",
              "15         design          has  0.000000    0.000000\n",
              "16      galaxys21        ultra  0.000000    0.000000\n",
              "17     muthafucka          got  0.000000    0.000000\n",
              "18         camera         best  0.300000    1.000000\n",
              "19         camera          got  0.000000    0.000000\n",
              "20            cap          not  0.000000    0.000000\n",
              "21            cap          got  0.000000    0.000000\n",
              "22            s21          new  0.454545    0.136364\n",
              "23            s21       galaxy  0.000000    0.000000\n",
              "24            s21          got  0.000000    0.000000\n",
              "25         phonei    prettiest  0.000000    0.000000\n",
              "26         phonei          had  0.000000    0.000000\n",
              "27  samsunggalaxy     s21ultra  0.000000    0.000000\n",
              "28      galaxys21     s21ultra  0.000000    0.000000\n",
              "29          phone      screens  0.000000    0.000000\n",
              "30    performance        great  0.750000    0.800000\n",
              "31      galaxys21        ultra  0.000000    0.000000\n",
              "32          phone          big  0.100000    0.000000\n",
              "33         camera        great  0.750000    0.800000\n",
              "34    batterylife    fantastic  0.900000    0.400000"
            ]
          },
          "metadata": {},
          "execution_count": 125
        }
      ]
    },
    {
      "cell_type": "code",
      "metadata": {
        "id": "JlAjm8OPA9Yq"
      },
      "source": [
        "dfFinal.to_csv(\"dfFinal.csv\")"
      ],
      "execution_count": null,
      "outputs": []
    },
    {
      "cell_type": "code",
      "metadata": {
        "id": "x1JD1mEEa0DN"
      },
      "source": [
        "listaFiltro = [0.0]\n",
        "filtroAdjetivos = ~dfFinal['Polaridade'].isin(listaFiltro)"
      ],
      "execution_count": null,
      "outputs": []
    },
    {
      "cell_type": "code",
      "metadata": {
        "colab": {
          "base_uri": "https://localhost:8080/",
          "height": 363
        },
        "id": "gwNCb-FXsNqE",
        "outputId": "73f592a8-2d34-4b39-ab60-c86384030b48"
      },
      "source": [
        "resultado = dfFinal[filtroAdjetivos]\n",
        "resultado"
      ],
      "execution_count": null,
      "outputs": [
        {
          "output_type": "execute_result",
          "data": {
            "text/html": [
              "<div>\n",
              "<style scoped>\n",
              "    .dataframe tbody tr th:only-of-type {\n",
              "        vertical-align: middle;\n",
              "    }\n",
              "\n",
              "    .dataframe tbody tr th {\n",
              "        vertical-align: top;\n",
              "    }\n",
              "\n",
              "    .dataframe thead th {\n",
              "        text-align: right;\n",
              "    }\n",
              "</style>\n",
              "<table border=\"1\" class=\"dataframe\">\n",
              "  <thead>\n",
              "    <tr style=\"text-align: right;\">\n",
              "      <th></th>\n",
              "      <th>Aspectos</th>\n",
              "      <th>Adjetivos</th>\n",
              "      <th>Sub</th>\n",
              "      <th>Polaridade</th>\n",
              "    </tr>\n",
              "  </thead>\n",
              "  <tbody>\n",
              "    <tr>\n",
              "      <th>1</th>\n",
              "      <td>battery</td>\n",
              "      <td>incredible</td>\n",
              "      <td>0.900000</td>\n",
              "      <td>0.900000</td>\n",
              "    </tr>\n",
              "    <tr>\n",
              "      <th>5</th>\n",
              "      <td>battery</td>\n",
              "      <td>good</td>\n",
              "      <td>0.600000</td>\n",
              "      <td>0.700000</td>\n",
              "    </tr>\n",
              "    <tr>\n",
              "      <th>8</th>\n",
              "      <td>camera</td>\n",
              "      <td>wonderful</td>\n",
              "      <td>1.000000</td>\n",
              "      <td>1.000000</td>\n",
              "    </tr>\n",
              "    <tr>\n",
              "      <th>12</th>\n",
              "      <td>batterylife</td>\n",
              "      <td>good</td>\n",
              "      <td>0.600000</td>\n",
              "      <td>0.700000</td>\n",
              "    </tr>\n",
              "    <tr>\n",
              "      <th>14</th>\n",
              "      <td>design</td>\n",
              "      <td>worst</td>\n",
              "      <td>1.000000</td>\n",
              "      <td>-1.000000</td>\n",
              "    </tr>\n",
              "    <tr>\n",
              "      <th>18</th>\n",
              "      <td>camera</td>\n",
              "      <td>best</td>\n",
              "      <td>0.300000</td>\n",
              "      <td>1.000000</td>\n",
              "    </tr>\n",
              "    <tr>\n",
              "      <th>22</th>\n",
              "      <td>s21</td>\n",
              "      <td>new</td>\n",
              "      <td>0.454545</td>\n",
              "      <td>0.136364</td>\n",
              "    </tr>\n",
              "    <tr>\n",
              "      <th>30</th>\n",
              "      <td>performance</td>\n",
              "      <td>great</td>\n",
              "      <td>0.750000</td>\n",
              "      <td>0.800000</td>\n",
              "    </tr>\n",
              "    <tr>\n",
              "      <th>33</th>\n",
              "      <td>camera</td>\n",
              "      <td>great</td>\n",
              "      <td>0.750000</td>\n",
              "      <td>0.800000</td>\n",
              "    </tr>\n",
              "    <tr>\n",
              "      <th>34</th>\n",
              "      <td>batterylife</td>\n",
              "      <td>fantastic</td>\n",
              "      <td>0.900000</td>\n",
              "      <td>0.400000</td>\n",
              "    </tr>\n",
              "  </tbody>\n",
              "</table>\n",
              "</div>"
            ],
            "text/plain": [
              "       Aspectos   Adjetivos       Sub  Polaridade\n",
              "1       battery  incredible  0.900000    0.900000\n",
              "5       battery        good  0.600000    0.700000\n",
              "8        camera   wonderful  1.000000    1.000000\n",
              "12  batterylife        good  0.600000    0.700000\n",
              "14       design       worst  1.000000   -1.000000\n",
              "18       camera        best  0.300000    1.000000\n",
              "22          s21         new  0.454545    0.136364\n",
              "30  performance       great  0.750000    0.800000\n",
              "33       camera       great  0.750000    0.800000\n",
              "34  batterylife   fantastic  0.900000    0.400000"
            ]
          },
          "metadata": {},
          "execution_count": 128
        }
      ]
    },
    {
      "cell_type": "code",
      "metadata": {
        "id": "Q4v_3C35n9cW"
      },
      "source": [
        "resultado.to_csv(\"resultado.csv\")"
      ],
      "execution_count": null,
      "outputs": []
    },
    {
      "cell_type": "markdown",
      "metadata": {
        "id": "o-SOvj8x-OnV"
      },
      "source": [
        "#Sumarização"
      ]
    },
    {
      "cell_type": "code",
      "metadata": {
        "id": "DKp5yQe6_eHp"
      },
      "source": [
        "%matplotlib inline \n",
        "import matplotlib.pyplot as plt\n",
        "plt.rc('figure', figsize = (20, 10))"
      ],
      "execution_count": null,
      "outputs": []
    },
    {
      "cell_type": "code",
      "metadata": {
        "id": "PlF9p010BLKi"
      },
      "source": [
        "s = pd.Series(list(resultado.Adjetivos))\n",
        "listaAnalise = s.value_counts()"
      ],
      "execution_count": null,
      "outputs": []
    },
    {
      "cell_type": "code",
      "metadata": {
        "colab": {
          "base_uri": "https://localhost:8080/",
          "height": 234
        },
        "id": "Cb7BmRKpCFm_",
        "outputId": "635e2d20-7658-4722-aa4d-713ba63cfd93"
      },
      "source": [
        "dfAnalise = pd.DataFrame(listaAnalise, columns = ['Quantidade Adjetivos'])\n",
        "dfAnalise.head(40)"
      ],
      "execution_count": null,
      "outputs": [
        {
          "output_type": "execute_result",
          "data": {
            "text/html": [
              "<div>\n",
              "<style scoped>\n",
              "    .dataframe tbody tr th:only-of-type {\n",
              "        vertical-align: middle;\n",
              "    }\n",
              "\n",
              "    .dataframe tbody tr th {\n",
              "        vertical-align: top;\n",
              "    }\n",
              "\n",
              "    .dataframe thead th {\n",
              "        text-align: right;\n",
              "    }\n",
              "</style>\n",
              "<table border=\"1\" class=\"dataframe\">\n",
              "  <thead>\n",
              "    <tr style=\"text-align: right;\">\n",
              "      <th></th>\n",
              "      <th>Quantidade Adjetivos</th>\n",
              "    </tr>\n",
              "  </thead>\n",
              "  <tbody>\n",
              "    <tr>\n",
              "      <th>great</th>\n",
              "      <td>1</td>\n",
              "    </tr>\n",
              "    <tr>\n",
              "      <th>slow</th>\n",
              "      <td>1</td>\n",
              "    </tr>\n",
              "    <tr>\n",
              "      <th>delicious</th>\n",
              "      <td>1</td>\n",
              "    </tr>\n",
              "    <tr>\n",
              "      <th>enjoyable</th>\n",
              "      <td>1</td>\n",
              "    </tr>\n",
              "    <tr>\n",
              "      <th>bad</th>\n",
              "      <td>1</td>\n",
              "    </tr>\n",
              "    <tr>\n",
              "      <th>rude</th>\n",
              "      <td>1</td>\n",
              "    </tr>\n",
              "  </tbody>\n",
              "</table>\n",
              "</div>"
            ],
            "text/plain": [
              "           Quantidade Adjetivos\n",
              "great                         1\n",
              "slow                          1\n",
              "delicious                     1\n",
              "enjoyable                     1\n",
              "bad                           1\n",
              "rude                          1"
            ]
          },
          "metadata": {},
          "execution_count": 43
        }
      ]
    },
    {
      "cell_type": "code",
      "metadata": {
        "colab": {
          "base_uri": "https://localhost:8080/",
          "height": 1000
        },
        "id": "VRo-Hzst-QP1",
        "outputId": "03685f3f-ea0d-4639-bb18-d6a3269bf639"
      },
      "source": [
        "g = pd.Series(list(resultado.Aspectos))\n",
        "listaAnaliseAspectos = g.value_counts()\n",
        "\n",
        "dfAnalise = pd.DataFrame(listaAnaliseAspectos, columns = ['Quantidade Aspectos'])\n",
        "dfAnalise.head(40)"
      ],
      "execution_count": null,
      "outputs": [
        {
          "data": {
            "text/html": [
              "<div>\n",
              "<style scoped>\n",
              "    .dataframe tbody tr th:only-of-type {\n",
              "        vertical-align: middle;\n",
              "    }\n",
              "\n",
              "    .dataframe tbody tr th {\n",
              "        vertical-align: top;\n",
              "    }\n",
              "\n",
              "    .dataframe thead th {\n",
              "        text-align: right;\n",
              "    }\n",
              "</style>\n",
              "<table border=\"1\" class=\"dataframe\">\n",
              "  <thead>\n",
              "    <tr style=\"text-align: right;\">\n",
              "      <th></th>\n",
              "      <th>Quantidade Aspectos</th>\n",
              "    </tr>\n",
              "  </thead>\n",
              "  <tbody>\n",
              "    <tr>\n",
              "      <th>sgfonefixsgipad…</th>\n",
              "      <td>62</td>\n",
              "    </tr>\n",
              "    <tr>\n",
              "      <th>display</th>\n",
              "      <td>22</td>\n",
              "    </tr>\n",
              "    <tr>\n",
              "      <th>cushion</th>\n",
              "      <td>20</td>\n",
              "    </tr>\n",
              "    <tr>\n",
              "      <th>galaxys21</th>\n",
              "      <td>17</td>\n",
              "    </tr>\n",
              "    <tr>\n",
              "      <th>protectorsamsung…</th>\n",
              "      <td>16</td>\n",
              "    </tr>\n",
              "    <tr>\n",
              "      <th>temp…</th>\n",
              "      <td>10</td>\n",
              "    </tr>\n",
              "    <tr>\n",
              "      <th>iphone</th>\n",
              "      <td>8</td>\n",
              "    </tr>\n",
              "    <tr>\n",
              "      <th>glass</th>\n",
              "      <td>8</td>\n",
              "    </tr>\n",
              "    <tr>\n",
              "      <th>camera</th>\n",
              "      <td>8</td>\n",
              "    </tr>\n",
              "    <tr>\n",
              "      <th>case</th>\n",
              "      <td>8</td>\n",
              "    </tr>\n",
              "    <tr>\n",
              "      <th>screen</th>\n",
              "      <td>8</td>\n",
              "    </tr>\n",
              "    <tr>\n",
              "      <th>screenprotector</th>\n",
              "      <td>7</td>\n",
              "    </tr>\n",
              "    <tr>\n",
              "      <th>pricecut</th>\n",
              "      <td>6</td>\n",
              "    </tr>\n",
              "    <tr>\n",
              "      <th>domesilk</th>\n",
              "      <td>6</td>\n",
              "    </tr>\n",
              "    <tr>\n",
              "      <th>tem…</th>\n",
              "      <td>6</td>\n",
              "    </tr>\n",
              "    <tr>\n",
              "      <th>domeglass</th>\n",
              "      <td>6</td>\n",
              "    </tr>\n",
              "    <tr>\n",
              "      <th>cameracomparison</th>\n",
              "      <td>5</td>\n",
              "    </tr>\n",
              "    <tr>\n",
              "      <th>phonecover</th>\n",
              "      <td>4</td>\n",
              "    </tr>\n",
              "    <tr>\n",
              "      <th>screenprotection</th>\n",
              "      <td>4</td>\n",
              "    </tr>\n",
              "    <tr>\n",
              "      <th>friday</th>\n",
              "      <td>4</td>\n",
              "    </tr>\n",
              "    <tr>\n",
              "      <th>seller</th>\n",
              "      <td>4</td>\n",
              "    </tr>\n",
              "    <tr>\n",
              "      <th>batterylife</th>\n",
              "      <td>4</td>\n",
              "    </tr>\n",
              "    <tr>\n",
              "      <th>galaxys21+</th>\n",
              "      <td>4</td>\n",
              "    </tr>\n",
              "    <tr>\n",
              "      <th>f…</th>\n",
              "      <td>4</td>\n",
              "    </tr>\n",
              "    <tr>\n",
              "      <th>s21</th>\n",
              "      <td>4</td>\n",
              "    </tr>\n",
              "    <tr>\n",
              "      <th>gla…</th>\n",
              "      <td>3</td>\n",
              "    </tr>\n",
              "    <tr>\n",
              "      <th>ipad</th>\n",
              "      <td>3</td>\n",
              "    </tr>\n",
              "    <tr>\n",
              "      <th>amazonwhitestone</th>\n",
              "      <td>3</td>\n",
              "    </tr>\n",
              "    <tr>\n",
              "      <th>smartphone</th>\n",
              "      <td>3</td>\n",
              "    </tr>\n",
              "    <tr>\n",
              "      <th>tempered…</th>\n",
              "      <td>3</td>\n",
              "    </tr>\n",
              "    <tr>\n",
              "      <th>camerai</th>\n",
              "      <td>3</td>\n",
              "    </tr>\n",
              "    <tr>\n",
              "      <th>pixel</th>\n",
              "      <td>2</td>\n",
              "    </tr>\n",
              "    <tr>\n",
              "      <th>screenp…</th>\n",
              "      <td>2</td>\n",
              "    </tr>\n",
              "    <tr>\n",
              "      <th>samsunggalaxy</th>\n",
              "      <td>2</td>\n",
              "    </tr>\n",
              "    <tr>\n",
              "      <th>check</th>\n",
              "      <td>2</td>\n",
              "    </tr>\n",
              "    <tr>\n",
              "      <th>protect</th>\n",
              "      <td>2</td>\n",
              "    </tr>\n",
              "    <tr>\n",
              "      <th>influenc…</th>\n",
              "      <td>2</td>\n",
              "    </tr>\n",
              "    <tr>\n",
              "      <th>cameradesign</th>\n",
              "      <td>2</td>\n",
              "    </tr>\n",
              "    <tr>\n",
              "      <th>tower</th>\n",
              "      <td>2</td>\n",
              "    </tr>\n",
              "    <tr>\n",
              "      <th>step</th>\n",
              "      <td>2</td>\n",
              "    </tr>\n",
              "  </tbody>\n",
              "</table>\n",
              "</div>"
            ],
            "text/plain": [
              "                   Quantidade Aspectos\n",
              "sgfonefixsgipad…                    62\n",
              "display                             22\n",
              "cushion                             20\n",
              "galaxys21                           17\n",
              "protectorsamsung…                   16\n",
              "temp…                               10\n",
              "iphone                               8\n",
              "glass                                8\n",
              "camera                               8\n",
              "case                                 8\n",
              "screen                               8\n",
              "screenprotector                      7\n",
              "pricecut                             6\n",
              "domesilk                             6\n",
              "tem…                                 6\n",
              "domeglass                            6\n",
              "cameracomparison                     5\n",
              "phonecover                           4\n",
              "screenprotection                     4\n",
              "friday                               4\n",
              "seller                               4\n",
              "batterylife                          4\n",
              "galaxys21+                           4\n",
              "f…                                   4\n",
              "s21                                  4\n",
              "gla…                                 3\n",
              "ipad                                 3\n",
              "amazonwhitestone                     3\n",
              "smartphone                           3\n",
              "tempered…                            3\n",
              "camerai                              3\n",
              "pixel                                2\n",
              "screenp…                             2\n",
              "samsunggalaxy                        2\n",
              "check                                2\n",
              "protect                              2\n",
              "influenc…                            2\n",
              "cameradesign                         2\n",
              "tower                                2\n",
              "step                                 2"
            ]
          },
          "execution_count": 55,
          "metadata": {},
          "output_type": "execute_result"
        }
      ]
    },
    {
      "cell_type": "code",
      "metadata": {
        "colab": {
          "base_uri": "https://localhost:8080/",
          "height": 694
        },
        "id": "JxJPtpv1_yGx",
        "outputId": "d79819b7-ae57-4909-a771-1d877f953bcd"
      },
      "source": [
        "fig = dfAnalise['Quantidade Aspectos'].plot.bar(color = 'blue')\n",
        "fig"
      ],
      "execution_count": null,
      "outputs": [
        {
          "data": {
            "text/plain": [
              "<matplotlib.axes._subplots.AxesSubplot at 0x7fb295a923d0>"
            ]
          },
          "execution_count": 56,
          "metadata": {},
          "output_type": "execute_result"
        },
        {
          "data": {
            "image/png": "[encoded data removed]",
            "text/plain": [
              "<Figure size 1440x720 with 1 Axes>"
            ]
          },
          "metadata": {},
          "output_type": "display_data"
        }
      ]
    }
  ]
}
